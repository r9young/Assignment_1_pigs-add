{
 "cells": [
  {
   "cell_type": "code",
   "execution_count": 1,
   "metadata": {},
   "outputs": [],
   "source": [
    "!touch a b c d e f"
   ]
  },
  {
   "cell_type": "code",
   "execution_count": 38,
   "metadata": {},
   "outputs": [],
   "source": [
    "!chmod u+x pigs-log.sh"
   ]
  },
  {
   "cell_type": "code",
   "execution_count": 789,
   "metadata": {},
   "outputs": [
    {
     "name": "stdout",
     "output_type": "stream",
     "text": [
      "\n",
      "\u001b[1mIn pigs-rm.sh line 5:\u001b[0m\n",
      "\u001b[0mnum_arg=$#\u001b[0m\n",
      "\u001b[33m^-----^ SC2034 (warning): num_arg appears unused. Verify use (or export if used externally).\u001b[0m\n",
      "\n",
      "\n",
      "\u001b[1mIn pigs-rm.sh line 7:\u001b[0m\n",
      "\u001b[0mcomit_dir=\".pig/objects\"\u001b[0m\n",
      "\u001b[33m^-------^ SC2034 (warning): comit_dir appears unused. Verify use (or export if used externally).\u001b[0m\n",
      "\n",
      "\n",
      "\u001b[1mIn pigs-rm.sh line 8:\u001b[0m\n",
      "\u001b[0mworking_dir=\".\"\u001b[0m\n",
      "\u001b[33m^---------^ SC2034 (warning): working_dir appears unused. Verify use (or export if used externally).\u001b[0m\n",
      "\n",
      "\n",
      "\u001b[1mIn pigs-rm.sh line 16:\u001b[0m\n",
      "\u001b[0m        number=$(echo $folder | cut -d \" \" -f1 | cut -d \"/\" -f3) \u001b[0m\n",
      "\u001b[32m                      ^-----^ SC2086 (info): Double quote to prevent globbing and word splitting.\u001b[0m\n",
      "\n",
      "\u001b[1mDid you mean: \u001b[0m\n",
      "        number=$(echo \"$folder\" | cut -d \" \" -f1 | cut -d \"/\" -f3) \n",
      "\n",
      "\n",
      "\u001b[1mIn pigs-rm.sh line 23:\u001b[0m\n",
      "\u001b[0m    echo $max_folder\u001b[0m\n",
      "\u001b[32m         ^---------^ SC2086 (info): Double quote to prevent globbing and word splitting.\u001b[0m\n",
      "\n",
      "\u001b[1mDid you mean: \u001b[0m\n",
      "    echo \"$max_folder\"\n",
      "\n",
      "\n",
      "\u001b[1mIn pigs-rm.sh line 33:\u001b[0m\n",
      "\u001b[0m        elif [ ! -e $stage_dir/$arg_cached ]; then\u001b[0m\n",
      "\u001b[32m                               ^---------^ SC2086 (info): Double quote to prevent globbing and word splitting.\u001b[0m\n",
      "\n",
      "\u001b[1mDid you mean: \u001b[0m\n",
      "        elif [ ! -e $stage_dir/\"$arg_cached\" ]; then\n",
      "\n",
      "\n",
      "\u001b[1mIn pigs-rm.sh line 34:\u001b[0m\n",
      "\u001b[0m            echo pigs-show: error: $arg_cached not found in index\u001b[0m\n",
      "\u001b[32m                                   ^---------^ SC2086 (info): Double quote to prevent globbing and word splitting.\u001b[0m\n",
      "\n",
      "\u001b[1mDid you mean: \u001b[0m\n",
      "            echo pigs-show: error: \"$arg_cached\" not found in index\n",
      "\n",
      "\n",
      "\u001b[1mIn pigs-rm.sh line 35:\u001b[0m\n",
      "\u001b[0m        elif [ -e $stage_dir/$arg_cached ]; then\u001b[0m\n",
      "\u001b[32m                             ^---------^ SC2086 (info): Double quote to prevent globbing and word splitting.\u001b[0m\n",
      "\n",
      "\u001b[1mDid you mean: \u001b[0m\n",
      "        elif [ -e $stage_dir/\"$arg_cached\" ]; then\n",
      "\n",
      "\n",
      "\u001b[1mIn pigs-rm.sh line 36:\u001b[0m\n",
      "\u001b[0m            rm $stage_dir/$arg_cached\u001b[0m\n",
      "\u001b[32m                          ^---------^ SC2086 (info): Double quote to prevent globbing and word splitting.\u001b[0m\n",
      "\n",
      "\u001b[1mDid you mean: \u001b[0m\n",
      "            rm $stage_dir/\"$arg_cached\"\n",
      "\n",
      "\n",
      "\u001b[1mIn pigs-rm.sh line 42:\u001b[0m\n",
      "\u001b[0m        if [ ! -e $stage_dir/$arg_rm ]; then\u001b[0m\n",
      "\u001b[32m                             ^-----^ SC2086 (info): Double quote to prevent globbing and word splitting.\u001b[0m\n",
      "\n",
      "\u001b[1mDid you mean: \u001b[0m\n",
      "        if [ ! -e $stage_dir/\"$arg_rm\" ]; then\n",
      "\n",
      "\n",
      "\u001b[1mIn pigs-rm.sh line 45:\u001b[0m\n",
      "\u001b[0m        elif [ -e $stage_dir/$arg_rm ]; then\u001b[0m\n",
      "\u001b[32m                             ^-----^ SC2086 (info): Double quote to prevent globbing and word splitting.\u001b[0m\n",
      "\n",
      "\u001b[1mDid you mean: \u001b[0m\n",
      "        elif [ -e $stage_dir/\"$arg_rm\" ]; then\n",
      "\n",
      "\n",
      "\u001b[1mIn pigs-rm.sh line 48:\u001b[0m\n",
      "\u001b[0m            folder=$(echo $object_folder | cut -d\"/\" -f3)\u001b[0m\n",
      "\u001b[32m                          ^------------^ SC2086 (info): Double quote to prevent globbing and word splitting.\u001b[0m\n",
      "\n",
      "\u001b[1mDid you mean: \u001b[0m\n",
      "            folder=$(echo \"$object_folder\" | cut -d\"/\" -f3)\n",
      "\n",
      "\n",
      "\u001b[1mIn pigs-rm.sh line 49:\u001b[0m\n",
      "\u001b[0m            foldername=$(echo $folder | tr \" \" \"/n\" |tr \"/\" \" \") # we need to fix this problem: in \"3 second commit\", there must be some whitespace\u001b[0m\n",
      "\u001b[32m                              ^-----^ SC2086 (info): Double quote to prevent globbing and word splitting.\u001b[0m\n",
      "\n",
      "\u001b[1mDid you mean: \u001b[0m\n",
      "            foldername=$(echo \"$folder\" | tr \" \" \"/n\" |tr \"/\" \" \") # we need to fix this problem: in \"3 second commit\", there must be some whitespace\n",
      "\n",
      "For more information:\n",
      "  https://www.shellcheck.net/wiki/SC2034 -- comit_dir appears unused. Verify ...\n",
      "  https://www.shellcheck.net/wiki/SC2086 -- Double quote to prevent globbing ...\n"
     ]
    }
   ],
   "source": [
    "!shellcheck pigs-rm.sh"
   ]
  },
  {
   "cell_type": "code",
   "execution_count": 36,
   "metadata": {},
   "outputs": [
    {
     "name": "stdout",
     "output_type": "stream",
     "text": [
      "f.txt does not exist in the directory, so it has been added\n",
      "g.txt does not exist in the directory, so it has been added\n"
     ]
    }
   ],
   "source": [
    "!./pigs-add.sh f.txt g.txt"
   ]
  },
  {
   "cell_type": "code",
   "execution_count": 26,
   "metadata": {},
   "outputs": [
    {
     "name": "stdout",
     "output_type": "stream",
     "text": [
      "c.txt is in the directory\n"
     ]
    }
   ],
   "source": [
    "!./pigs-add.sh c.txt"
   ]
  },
  {
   "cell_type": "code",
   "execution_count": 3,
   "metadata": {},
   "outputs": [
    {
     "name": "stdout",
     "output_type": "stream",
     "text": [
      "zsh:1: no matches found: .pig/index/.snapshot.*/*\n"
     ]
    }
   ],
   "source": [
    "!ls .pig/index/.snapshot.*/*"
   ]
  },
  {
   "cell_type": "code",
   "execution_count": 790,
   "metadata": {},
   "outputs": [
    {
     "name": "stdout",
     "output_type": "stream",
     "text": [
      "chmod: testing.sh: No such file or directory\n"
     ]
    }
   ],
   "source": [
    "!chmod u+x testing.sh"
   ]
  },
  {
   "cell_type": "code",
   "execution_count": 51,
   "metadata": {},
   "outputs": [
    {
     "name": "stdout",
     "output_type": "stream",
     "text": [
      ".pig/index/.snapshot.0\n",
      ".pig/index/.snapshot.1\n"
     ]
    }
   ],
   "source": [
    "!./testing.sh"
   ]
  },
  {
   "cell_type": "code",
   "execution_count": 33,
   "metadata": {},
   "outputs": [],
   "source": [
    "!./pigs-log.sh"
   ]
  },
  {
   "cell_type": "code",
   "execution_count": 48,
   "metadata": {},
   "outputs": [
    {
     "name": "stdout",
     "output_type": "stream",
     "text": [
      "\u001b[34m2 third commit\u001b[m\u001b[m\n",
      "\u001b[34m1 second commit\u001b[m\u001b[m\n",
      "\u001b[34m0 first commit\u001b[m\u001b[m\n"
     ]
    }
   ],
   "source": [
    "!ls .pig/objects/ | sort -t '/' -k3 -nr\n"
   ]
  },
  {
   "cell_type": "code",
   "execution_count": 67,
   "metadata": {},
   "outputs": [],
   "source": [
    "!touch d"
   ]
  },
  {
   "cell_type": "code",
   "execution_count": 65,
   "metadata": {},
   "outputs": [
    {
     "name": "stdout",
     "output_type": "stream",
     "text": [
      "./pigs-add.sh: error: can not open 'non_existent_file'\n"
     ]
    }
   ],
   "source": [
    "!./pigs-add.sh adsf"
   ]
  },
  {
   "cell_type": "code",
   "execution_count": 52,
   "metadata": {},
   "outputs": [
    {
     "name": "stdout",
     "output_type": "stream",
     "text": [
      "zsh:1: command not found: pigs-log.sh\n"
     ]
    }
   ],
   "source": []
  },
  {
   "cell_type": "code",
   "execution_count": null,
   "metadata": {},
   "outputs": [],
   "source": []
  },
  {
   "attachments": {},
   "cell_type": "markdown",
   "metadata": {},
   "source": [
    "Test subset0_4 (add with no previous init) - failed (Incorrect output)\n",
    "Your program produced these 4 lines of output:\n",
    "$ touch a\n",
    "$ pigs-add a\n",
    "cp: cannot create regular file '.pig/index/': No such file or directory\n",
    "*** TEST STOPPED: incorrect output from pigs command\n",
    "\n",
    "\n",
    "\n",
    "first thing tomorrow morning: \n",
    "\n",
    "    as there is no previous init, so init file does not exist.\n",
    "    so the error message: pigs-add: error: pigs repository directory .pig not found\n"
   ]
  },
  {
   "cell_type": "code",
   "execution_count": 26,
   "metadata": {},
   "outputs": [
    {
     "name": "stdout",
     "output_type": "stream",
     "text": [
      "./pigs-show.sh: line 13: /.pig/objects/.snapshot.0/a: No such file or directory\n"
     ]
    }
   ],
   "source": [
    "!./pigs-show.sh 0:a"
   ]
  },
  {
   "cell_type": "code",
   "execution_count": 5,
   "metadata": {},
   "outputs": [
    {
     "name": "stdout",
     "output_type": "stream",
     "text": [
      "chmod: 0:b: No such file or directory\n"
     ]
    }
   ],
   "source": [
    "!chmod u+x pigs-show.sh "
   ]
  },
  {
   "cell_type": "code",
   "execution_count": 8,
   "metadata": {},
   "outputs": [
    {
     "name": "stdout",
     "output_type": "stream",
     "text": [
      "Initialized empty pigs repository in .pig\n"
     ]
    }
   ],
   "source": [
    "!./pigs-init.sh"
   ]
  },
  {
   "cell_type": "code",
   "execution_count": 62,
   "metadata": {},
   "outputs": [
    {
     "name": "stdout",
     "output_type": "stream",
     "text": [
      "a is in the directory\n"
     ]
    }
   ],
   "source": [
    "!./pigs-add.sh a"
   ]
  },
  {
   "cell_type": "code",
   "execution_count": 64,
   "metadata": {},
   "outputs": [
    {
     "name": "stdout",
     "output_type": "stream",
     "text": [
      "Committed as commit 4\n"
     ]
    }
   ],
   "source": [
    "!./pigs-commit.sh abc"
   ]
  },
  {
   "cell_type": "code",
   "execution_count": 127,
   "metadata": {},
   "outputs": [
    {
     "name": "stdout",
     "output_type": "stream",
     "text": [
      "\n"
     ]
    }
   ],
   "source": [
    "!./pigs-show.sh 7:x"
   ]
  },
  {
   "cell_type": "code",
   "execution_count": 32,
   "metadata": {},
   "outputs": [],
   "source": [
    "!echo hello > a"
   ]
  },
  {
   "cell_type": "code",
   "execution_count": 54,
   "metadata": {},
   "outputs": [
    {
     "name": "stdout",
     "output_type": "stream",
     "text": [
      "./testing.sh: error: can not open 'non_existent_file'\n"
     ]
    }
   ],
   "source": [
    "!./testing.sh sadfasf"
   ]
  },
  {
   "cell_type": "code",
   "execution_count": 58,
   "metadata": {},
   "outputs": [
    {
     "name": "stdout",
     "output_type": "stream",
     "text": [
      "zsh:1: no such file or directory: ./pwd\n"
     ]
    }
   ],
   "source": [
    "!./pwd"
   ]
  },
  {
   "cell_type": "code",
   "execution_count": 59,
   "metadata": {},
   "outputs": [
    {
     "name": "stdout",
     "output_type": "stream",
     "text": [
      "/Users/yang/Library/CloudStorage/OneDrive-Personal/Git/COMP9044/Assignments/Assignment_1/COMP9044_Assignment_1_testing_1/Subset X Testing\n"
     ]
    }
   ],
   "source": [
    "!pwd"
   ]
  },
  {
   "cell_type": "code",
   "execution_count": 126,
   "metadata": {},
   "outputs": [
    {
     "name": "stdout",
     "output_type": "stream",
     "text": [
      "\n",
      "\u001b[1mIn pigs-show.sh line 5:\u001b[0m\n",
      "\u001b[0minfo=\"$(echo $input)\"\u001b[0m\n",
      "\u001b[32m      ^------------^ SC2116 (style): Useless echo? Instead of 'cmd $(echo foo)', just use 'cmd foo'.\u001b[0m\n",
      "\u001b[32m             ^----^ SC2086 (info): Double quote to prevent globbing and word splitting.\u001b[0m\n",
      "\n",
      "\u001b[1mDid you mean: \u001b[0m\n",
      "info=\"$(echo \"$input\")\"\n",
      "\n",
      "\n",
      "\u001b[1mIn pigs-show.sh line 7:\u001b[0m\n",
      "\u001b[0mfolder_serial=$(echo $info | cut -d \":\" -f1)\u001b[0m\n",
      "\u001b[32m                     ^---^ SC2086 (info): Double quote to prevent globbing and word splitting.\u001b[0m\n",
      "\n",
      "\u001b[1mDid you mean: \u001b[0m\n",
      "folder_serial=$(echo \"$info\" | cut -d \":\" -f1)\n",
      "\n",
      "\n",
      "\u001b[1mIn pigs-show.sh line 8:\u001b[0m\n",
      "\u001b[0mfolder_name=$(ls ./.pig/objects/ | grep -E \"$folder_serial\")\u001b[0m\n",
      "\u001b[33m              ^-- SC2010 (warning): Don't use ls | grep. Use a glob or a for loop with a condition to allow non-alphanumeric filenames.\u001b[0m\n",
      "\n",
      "\n",
      "\u001b[1mIn pigs-show.sh line 10:\u001b[0m\n",
      "\u001b[0mfile_name=$(echo $info | cut -d \":\" -f2)\u001b[0m\n",
      "\u001b[32m                 ^---^ SC2086 (info): Double quote to prevent globbing and word splitting.\u001b[0m\n",
      "\n",
      "\u001b[1mDid you mean: \u001b[0m\n",
      "file_name=$(echo \"$info\" | cut -d \":\" -f2)\n",
      "\n",
      "\n",
      "\u001b[1mIn pigs-show.sh line 12:\u001b[0m\n",
      "\u001b[0mindex_path=\".pig/index\"\u001b[0m\n",
      "\u001b[33m^--------^ SC2034 (warning): index_path appears unused. Verify use (or export if used externally).\u001b[0m\n",
      "\n",
      "\n",
      "\u001b[1mIn pigs-show.sh line 13:\u001b[0m\n",
      "\u001b[0mobject_path=\".pig/objects\"\u001b[0m\n",
      "\u001b[33m^---------^ SC2034 (warning): object_path appears unused. Verify use (or export if used externally).\u001b[0m\n",
      "\n",
      "\n",
      "\u001b[1mIn pigs-show.sh line 15:\u001b[0m\n",
      "\u001b[0mfile_path=\".pig/objects/$folder_name/$file_name\"\u001b[0m\n",
      "\u001b[33m^-------^ SC2034 (warning): file_path appears unused. Verify use (or export if used externally).\u001b[0m\n",
      "\n",
      "\n",
      "\u001b[1mIn pigs-show.sh line 18:\u001b[0m\n",
      "\u001b[0mif [ -z  $folder_serial ]; then # This checks if the variable $folder_serial is empty or not set.\u001b[0m\n",
      "\u001b[32m         ^------------^ SC2086 (info): Double quote to prevent globbing and word splitting.\u001b[0m\n",
      "\n",
      "\u001b[1mDid you mean: \u001b[0m\n",
      "if [ -z  \"$folder_serial\" ]; then # This checks if the variable $folder_serial is empty or not set.\n",
      "\n",
      "\n",
      "\u001b[1mIn pigs-show.sh line 29:\u001b[0m\n",
      "\u001b[0melif [ ! -z $folder_serial ]; then\u001b[0m\n",
      "\u001b[32m       ^-- SC2236 (style): Use -n instead of ! -z.\u001b[0m\n",
      "\u001b[32m            ^------------^ SC2086 (info): Double quote to prevent globbing and word splitting.\u001b[0m\n",
      "\n",
      "\u001b[1mDid you mean: \u001b[0m\n",
      "elif [ ! -z \"$folder_serial\" ]; then\n",
      "\n",
      "For more information:\n",
      "  https://www.shellcheck.net/wiki/SC2010 -- Don't use ls | grep. Use a glob o...\n",
      "  https://www.shellcheck.net/wiki/SC2034 -- file_path appears unused. Verify ...\n",
      "  https://www.shellcheck.net/wiki/SC2086 -- Double quote to prevent globbing ...\n"
     ]
    }
   ],
   "source": [
    "!shellcheck pigs-show.sh"
   ]
  },
  {
   "cell_type": "code",
   "execution_count": 152,
   "metadata": {},
   "outputs": [
    {
     "name": "stdout",
     "output_type": "stream",
     "text": [
      "a\n"
     ]
    }
   ],
   "source": [
    "!./testing.sh a b c"
   ]
  },
  {
   "cell_type": "markdown",
   "metadata": {},
   "source": []
  },
  {
   "cell_type": "code",
   "execution_count": 180,
   "metadata": {},
   "outputs": [
    {
     "name": "stdout",
     "output_type": "stream",
     "text": [
      "Committed as commit 5\n"
     ]
    }
   ],
   "source": [
    "!./pigs-commit.sh -m \"third commit\""
   ]
  },
  {
   "cell_type": "markdown",
   "metadata": {},
   "source": []
  },
  {
   "cell_type": "code",
   "execution_count": 62,
   "metadata": {},
   "outputs": [
    {
     "name": "stdout",
     "output_type": "stream",
     "text": [
      "\u001b[34m2 third commit\u001b[m\u001b[m\n",
      "\u001b[34m1 second commit\u001b[m\u001b[m\n",
      "\u001b[34m0 first commit\u001b[m\u001b[m\n"
     ]
    }
   ],
   "source": [
    "!./pigs-log.sh"
   ]
  },
  {
   "cell_type": "code",
   "execution_count": 124,
   "metadata": {},
   "outputs": [
    {
     "name": "stdout",
     "output_type": "stream",
     "text": [
      "pigs-show.sh: line 32: .pig/objects/\u001b[34m0 first commit\u001b[m\u001b[m/a: No such file or directory\n"
     ]
    }
   ],
   "source": [
    "!bash pigs-show.sh 0:a\n",
    "\n"
   ]
  },
  {
   "cell_type": "code",
   "execution_count": 137,
   "metadata": {},
   "outputs": [
    {
     "name": "stdout",
     "output_type": "stream",
     "text": [
      "4\n"
     ]
    }
   ],
   "source": [
    "!./testing.sh d c a b"
   ]
  },
  {
   "cell_type": "code",
   "execution_count": null,
   "metadata": {},
   "outputs": [],
   "source": [
    ".pig/objects/1 second commit/a"
   ]
  },
  {
   "cell_type": "code",
   "execution_count": 55,
   "metadata": {},
   "outputs": [
    {
     "name": "stdout",
     "output_type": "stream",
     "text": [
      "\u001b[34m0 first commit\u001b[m\u001b[m\n"
     ]
    }
   ],
   "source": [
    "!ls ./.pig/objects/ | grep -E \"0\""
   ]
  },
  {
   "cell_type": "code",
   "execution_count": 139,
   "metadata": {},
   "outputs": [
    {
     "name": "stdout",
     "output_type": "stream",
     "text": [
      "zsh:1: no such file or directory: ./tesing.sh\n"
     ]
    }
   ],
   "source": [
    "!./tesing.sh a b c"
   ]
  },
  {
   "cell_type": "code",
   "execution_count": 157,
   "metadata": {},
   "outputs": [],
   "source": [
    "!chmod u+x testing_3.sh"
   ]
  },
  {
   "cell_type": "code",
   "execution_count": 192,
   "metadata": {},
   "outputs": [
    {
     "name": "stdout",
     "output_type": "stream",
     "text": [
      "Committed as commit 9\n"
     ]
    }
   ],
   "source": [
    "!./testing_3.sh -a -m \"sixth commit\""
   ]
  },
  {
   "cell_type": "code",
   "execution_count": 190,
   "metadata": {},
   "outputs": [
    {
     "name": "stdout",
     "output_type": "stream",
     "text": [
      "add -a\n"
     ]
    }
   ],
   "source": [
    "!./pigs-commit.sh -a -m \"seventh commit\""
   ]
  },
  {
   "cell_type": "code",
   "execution_count": 185,
   "metadata": {},
   "outputs": [
    {
     "name": "stdout",
     "output_type": "stream",
     "text": [
      "fouth commit\n"
     ]
    }
   ],
   "source": [
    "!./testing_2.sh -m \"fouth commit\""
   ]
  },
  {
   "cell_type": "code",
   "execution_count": 193,
   "metadata": {},
   "outputs": [],
   "source": [
    "!echo 1 > c"
   ]
  },
  {
   "cell_type": "code",
   "execution_count": 233,
   "metadata": {},
   "outputs": [
    {
     "name": "stdout",
     "output_type": "stream",
     "text": [
      "\u001b[34m14 adding a\u001b[m\u001b[m\n"
     ]
    }
   ],
   "source": [
    "!./testing_2.sh "
   ]
  },
  {
   "cell_type": "code",
   "execution_count": 234,
   "metadata": {},
   "outputs": [],
   "source": [
    "!chmod u+x pigs-rm.sh"
   ]
  },
  {
   "cell_type": "code",
   "execution_count": 235,
   "metadata": {},
   "outputs": [
    {
     "name": "stdout",
     "output_type": "stream",
     "text": [
      "./pigs-show.sh: error: '' not found in index\n"
     ]
    }
   ],
   "source": [
    "!./pigs-show.sh"
   ]
  },
  {
   "cell_type": "code",
   "execution_count": 237,
   "metadata": {},
   "outputs": [],
   "source": [
    "! echo line 1 > a"
   ]
  },
  {
   "cell_type": "code",
   "execution_count": null,
   "metadata": {},
   "outputs": [],
   "source": []
  },
  {
   "cell_type": "code",
   "execution_count": 241,
   "metadata": {},
   "outputs": [],
   "source": [
    "! echo line 2 > a"
   ]
  },
  {
   "cell_type": "code",
   "execution_count": null,
   "metadata": {},
   "outputs": [],
   "source": []
  },
  {
   "cell_type": "code",
   "execution_count": 369,
   "metadata": {},
   "outputs": [
    {
     "name": "stdout",
     "output_type": "stream",
     "text": [
      "--catched\n",
      "\u001b[34m3 third commit\u001b[m\u001b[m\n",
      "\n"
     ]
    }
   ],
   "source": [
    "!./pigs-rm.sh --catched a"
   ]
  },
  {
   "cell_type": "code",
   "execution_count": 370,
   "metadata": {},
   "outputs": [
    {
     "name": "stdout",
     "output_type": "stream",
     "text": [
      "0\n"
     ]
    }
   ],
   "source": [
    "!./testing_2.sh"
   ]
  },
  {
   "cell_type": "code",
   "execution_count": null,
   "metadata": {},
   "outputs": [],
   "source": []
  },
  {
   "cell_type": "code",
   "execution_count": null,
   "metadata": {},
   "outputs": [],
   "source": []
  },
  {
   "cell_type": "code",
   "execution_count": 415,
   "metadata": {},
   "outputs": [],
   "source": [
    "!./pigs-rm.sh --catched a c"
   ]
  },
  {
   "cell_type": "code",
   "execution_count": 416,
   "metadata": {},
   "outputs": [
    {
     "name": "stdout",
     "output_type": "stream",
     "text": [
      "diff: .pig/objects/\\033[34m2 second commit\\033[m\\033[m: No such file or directory\n",
      "Committed as commit 3\n"
     ]
    }
   ],
   "source": [
    "!./pigs-commit.sh -m \"second commit\""
   ]
  },
  {
   "cell_type": "code",
   "execution_count": 450,
   "metadata": {},
   "outputs": [],
   "source": [
    "!./pigs-rm.sh a b"
   ]
  },
  {
   "cell_type": "code",
   "execution_count": 444,
   "metadata": {},
   "outputs": [
    {
     "name": "stderr",
     "output_type": "stream",
     "text": [
      "bash: line 1: pigs-add.sh: command not found\n"
     ]
    },
    {
     "ename": "CalledProcessError",
     "evalue": "Command 'b'pigs-add.sh a b\\n'' returned non-zero exit status 127.",
     "output_type": "error",
     "traceback": [
      "\u001b[0;31m---------------------------------------------------------------------------\u001b[0m",
      "\u001b[0;31mCalledProcessError\u001b[0m                        Traceback (most recent call last)",
      "Cell \u001b[0;32mIn[444], line 1\u001b[0m\n\u001b[0;32m----> 1\u001b[0m get_ipython()\u001b[39m.\u001b[39;49mrun_cell_magic(\u001b[39m'\u001b[39;49m\u001b[39mbash\u001b[39;49m\u001b[39m'\u001b[39;49m, \u001b[39m'\u001b[39;49m\u001b[39m'\u001b[39;49m, \u001b[39m'\u001b[39;49m\u001b[39mpigs-add.sh a b\u001b[39;49m\u001b[39m\\n\u001b[39;49;00m\u001b[39m'\u001b[39;49m)\n",
      "File \u001b[0;32m~/Library/Python/3.11/lib/python/site-packages/IPython/core/interactiveshell.py:2478\u001b[0m, in \u001b[0;36mInteractiveShell.run_cell_magic\u001b[0;34m(self, magic_name, line, cell)\u001b[0m\n\u001b[1;32m   2476\u001b[0m \u001b[39mwith\u001b[39;00m \u001b[39mself\u001b[39m\u001b[39m.\u001b[39mbuiltin_trap:\n\u001b[1;32m   2477\u001b[0m     args \u001b[39m=\u001b[39m (magic_arg_s, cell)\n\u001b[0;32m-> 2478\u001b[0m     result \u001b[39m=\u001b[39m fn(\u001b[39m*\u001b[39;49margs, \u001b[39m*\u001b[39;49m\u001b[39m*\u001b[39;49mkwargs)\n\u001b[1;32m   2480\u001b[0m \u001b[39m# The code below prevents the output from being displayed\u001b[39;00m\n\u001b[1;32m   2481\u001b[0m \u001b[39m# when using magics with decodator @output_can_be_silenced\u001b[39;00m\n\u001b[1;32m   2482\u001b[0m \u001b[39m# when the last Python token in the expression is a ';'.\u001b[39;00m\n\u001b[1;32m   2483\u001b[0m \u001b[39mif\u001b[39;00m \u001b[39mgetattr\u001b[39m(fn, magic\u001b[39m.\u001b[39mMAGIC_OUTPUT_CAN_BE_SILENCED, \u001b[39mFalse\u001b[39;00m):\n",
      "File \u001b[0;32m~/Library/Python/3.11/lib/python/site-packages/IPython/core/magics/script.py:154\u001b[0m, in \u001b[0;36mScriptMagics._make_script_magic.<locals>.named_script_magic\u001b[0;34m(line, cell)\u001b[0m\n\u001b[1;32m    152\u001b[0m \u001b[39melse\u001b[39;00m:\n\u001b[1;32m    153\u001b[0m     line \u001b[39m=\u001b[39m script\n\u001b[0;32m--> 154\u001b[0m \u001b[39mreturn\u001b[39;00m \u001b[39mself\u001b[39;49m\u001b[39m.\u001b[39;49mshebang(line, cell)\n",
      "File \u001b[0;32m~/Library/Python/3.11/lib/python/site-packages/IPython/core/magics/script.py:314\u001b[0m, in \u001b[0;36mScriptMagics.shebang\u001b[0;34m(self, line, cell)\u001b[0m\n\u001b[1;32m    309\u001b[0m \u001b[39mif\u001b[39;00m args\u001b[39m.\u001b[39mraise_error \u001b[39mand\u001b[39;00m p\u001b[39m.\u001b[39mreturncode \u001b[39m!=\u001b[39m \u001b[39m0\u001b[39m:\n\u001b[1;32m    310\u001b[0m     \u001b[39m# If we get here and p.returncode is still None, we must have\u001b[39;00m\n\u001b[1;32m    311\u001b[0m     \u001b[39m# killed it but not yet seen its return code. We don't wait for it,\u001b[39;00m\n\u001b[1;32m    312\u001b[0m     \u001b[39m# in case it's stuck in uninterruptible sleep. -9 = SIGKILL\u001b[39;00m\n\u001b[1;32m    313\u001b[0m     rc \u001b[39m=\u001b[39m p\u001b[39m.\u001b[39mreturncode \u001b[39mor\u001b[39;00m \u001b[39m-\u001b[39m\u001b[39m9\u001b[39m\n\u001b[0;32m--> 314\u001b[0m     \u001b[39mraise\u001b[39;00m CalledProcessError(rc, cell)\n",
      "\u001b[0;31mCalledProcessError\u001b[0m: Command 'b'pigs-add.sh a b\\n'' returned non-zero exit status 127."
     ]
    }
   ],
   "source": [
    "%%bash\n",
    "pigs-add.sh a b"
   ]
  },
  {
   "cell_type": "code",
   "execution_count": 441,
   "metadata": {},
   "outputs": [
    {
     "name": "stderr",
     "output_type": "stream",
     "text": [
      "UsageError: Cell magic `%%dash` not found.\n"
     ]
    }
   ],
   "source": [
    "%%dash\n",
    "echo 1 >a\n",
    "echo 2 >b\n",
    "pigs-add.sh a b\n",
    "pigs-commit.sh -m \"first commit\"\n",
    "echo 3 >c\n",
    "echo 4 >d\n",
    "pigs-add.sh c d\n",
    "pigs-rm.sh --cached  a c\n",
    "pigs-commit.sh -m \"second commit\"\n",
    "pigs-show.sh 0:a\n",
    "pigs-show.sh 1:a\n",
    "pigs-show.sh :a\n"
   ]
  },
  {
   "cell_type": "code",
   "execution_count": 445,
   "metadata": {},
   "outputs": [],
   "source": [
    "!chmod u+x running_test.sh"
   ]
  },
  {
   "cell_type": "code",
   "execution_count": 561,
   "metadata": {},
   "outputs": [
    {
     "name": "stdout",
     "output_type": "stream",
     "text": [
      "Committed as commit 0\n",
      "pigs-show: error: not found in index\n",
      "pigs-show: error: not found in index\n",
      "pigs-show: error: not found in index\n",
      "Committed as commit 1\n",
      "./pigs-show.sh: error: 'a' not found in commit 0\n",
      "./pigs-show.sh: error: 'a' not found in commit 1\n",
      "1\n"
     ]
    }
   ],
   "source": [
    "!./running_test_15.sh "
   ]
  },
  {
   "cell_type": "code",
   "execution_count": 454,
   "metadata": {},
   "outputs": [
    {
     "name": "stdout",
     "output_type": "stream",
     "text": [
      "yes\n"
     ]
    }
   ],
   "source": [
    "#!/bin/dash\n",
    "\n",
    "echo 1 >a\n",
    "echo 2 >b\n",
    "./pigs-add.sh a b\n",
    "./pigs-commit.sh -m \"first commit\"\n",
    "echo 3 >c\n",
    "echo 4 >d\n",
    "./pigs-add.sh c d\n",
    "./pigs-rm.sh --cached  a c\n",
    "./pigs-commit.sh -m \"second commit\"\n",
    "./pigs-show.sh 0:a\n",
    "./pigs-show.sh 1:a\n",
    "./pigs-show.sh :a"
   ]
  },
  {
   "cell_type": "code",
   "execution_count": 457,
   "metadata": {},
   "outputs": [],
   "source": [
    "!./testing_3.sh --cached a b"
   ]
  },
  {
   "cell_type": "code",
   "execution_count": 461,
   "metadata": {},
   "outputs": [
    {
     "name": "stdout",
     "output_type": "stream",
     "text": [
      "yes\n"
     ]
    }
   ],
   "source": [
    "!./pigs-rm.sh --cached a b"
   ]
  },
  {
   "cell_type": "code",
   "execution_count": 495,
   "metadata": {},
   "outputs": [
    {
     "name": "stdout",
     "output_type": "stream",
     "text": [
      "Committed as commit 0\n",
      "diff: .pig/objects/\\033[34m0 first commit\\033[m\\033[m: No such file or directory\n",
      "Committed as commit 1\n",
      "diff: .pig/objects/\\033[34m1 second commit\\033[m\\033[m: No such file or directory\n",
      "Committed as commit 2\n",
      "./pigs-rm.sh: error: --cached is not in the pigs repository\n",
      "diff: .pig/objects/\\033[34m2 second commit\\033[m\\033[m: No such file or directory\n",
      "Committed as commit 3\n",
      "./pigs-rm.sh: error: b is not in the pigs repository\n",
      "diff: .pig/objects/\\033[34m0 first commit\\033[m\\033[m\n",
      "\\033[34m1 second commit\\033[m\\033[m\n",
      "\\033[34m2 second commit\\033[m\\033[m\n",
      "\\033[34m3 second commit\\033[m\\033[m: No such file or directory\n",
      "Committed as commit 4\n",
      "diff: .pig/objects/\\033[34m0 first commit\\033[m\\033[m\n",
      "\\033[34m1 second commit\\033[m\\033[m\n",
      "\\033[34m2 second commit\\033[m\\033[m\n",
      "\\033[34m3 second commit\\033[m\\033[m\n",
      "\\033[34m4 third commit\\033[m\\033[m: No such file or directory\n",
      "Committed as commit 5\n"
     ]
    }
   ],
   "source": [
    "!./running_test.sh"
   ]
  },
  {
   "cell_type": "code",
   "execution_count": 471,
   "metadata": {},
   "outputs": [
    {
     "name": "stdout",
     "output_type": "stream",
     "text": [
      "rm: .pig/index/f: No such file or directory\n"
     ]
    }
   ],
   "source": [
    "!./pigs-add.sh f"
   ]
  },
  {
   "cell_type": "code",
   "execution_count": 493,
   "metadata": {},
   "outputs": [
    {
     "name": "stdout",
     "output_type": "stream",
     "text": [
      "Committed as commit 2\n"
     ]
    }
   ],
   "source": [
    "!./pigs-commit.sh -m \"third commit\""
   ]
  },
  {
   "cell_type": "code",
   "execution_count": 744,
   "metadata": {},
   "outputs": [
    {
     "name": "stdout",
     "output_type": "stream",
     "text": [
      "\n",
      "\u001b[1mIn pigs-commit.sh line 5:\u001b[0m\n",
      "\u001b[0m    file_name=$@\u001b[0m\n",
      "\u001b[33m              ^-- SC2124 (warning): Assigning an array to a string! Assign as array, or use * instead of @ to concatenate.\u001b[0m\n",
      "\n",
      "\n",
      "\u001b[1mIn pigs-commit.sh line 15:\u001b[0m\n",
      "\u001b[0m                cp $backup_file .pig/objects/\"$max $file_name\" \u001b[0m\n",
      "\u001b[32m                   ^----------^ SC2086 (info): Double quote to prevent globbing and word splitting.\u001b[0m\n",
      "\n",
      "\u001b[1mDid you mean: \u001b[0m\n",
      "                cp \"$backup_file\" .pig/objects/\"$max $file_name\" \n",
      "\n",
      "\n",
      "\u001b[1mIn pigs-commit.sh line 20:\u001b[0m\n",
      "\u001b[0m            for backup_fold in $search_path/*; do\u001b[0m\n",
      "\u001b[32m                               ^----------^ SC2231 (info): Quote expansions in this for loop glob to prevent wordsplitting, e.g. \"$dir\"/*.txt .\u001b[0m\n",
      "\n",
      "\n",
      "\u001b[1mIn pigs-commit.sh line 21:\u001b[0m\n",
      "\u001b[0m                number=$(echo $backup_fold | cut -d \" \" -f1 | cut -d \"/\" -f3) \u001b[0m\n",
      "\u001b[32m                              ^----------^ SC2086 (info): Double quote to prevent globbing and word splitting.\u001b[0m\n",
      "\n",
      "\u001b[1mDid you mean: \u001b[0m\n",
      "                number=$(echo \"$backup_fold\" | cut -d \" \" -f1 | cut -d \"/\" -f3) \n",
      "\n",
      "\n",
      "\u001b[1mIn pigs-commit.sh line 27:\u001b[0m\n",
      "\u001b[0m            object_folder_name=$(ls ./.pig/objects/ | grep -E \"$max\")\u001b[0m\n",
      "\u001b[33m                                 ^-- SC2010 (warning): Don't use ls | grep. Use a glob or a for loop with a condition to allow non-alphanumeric filenames.\u001b[0m\n",
      "\n",
      "\n",
      "\u001b[1mIn pigs-commit.sh line 30:\u001b[0m\n",
      "\u001b[0m            for file1 in \".pig/index/\"; do\u001b[0m\n",
      "\u001b[33m                         ^-----------^ SC2043 (warning): This loop will only ever run once. Bad quoting or missing glob/expansion?\u001b[0m\n",
      "\n",
      "\n",
      "\u001b[1mIn pigs-commit.sh line 31:\u001b[0m\n",
      "\u001b[0m                for file2 in \".pig/objects/$object_folder_name\"; do\u001b[0m\n",
      "\u001b[31m                             ^-- SC2066 (error): Since you double quoted this, it will not word split, and the loop will only run once.\u001b[0m\n",
      "\n",
      "\n",
      "\u001b[1mIn pigs-commit.sh line 35:\u001b[0m\n",
      "\u001b[0m                        serial_number=$(($max+1))\u001b[0m\n",
      "\u001b[32m                                         ^--^ SC2004 (style): $/${} is unnecessary on arithmetic variables.\u001b[0m\n",
      "\n",
      "\n",
      "\u001b[1mIn pigs-commit.sh line 38:\u001b[0m\n",
      "\u001b[0m                            cp $backup_file .pig/objects/\"$serial_number $file_name\"/ 2>/dev/null\u001b[0m\n",
      "\u001b[32m                               ^----------^ SC2086 (info): Double quote to prevent globbing and word splitting.\u001b[0m\n",
      "\n",
      "\u001b[1mDid you mean: \u001b[0m\n",
      "                            cp \"$backup_file\" .pig/objects/\"$serial_number $file_name\"/ 2>/dev/null\n",
      "\n",
      "\n",
      "\u001b[1mIn pigs-commit.sh line 55:\u001b[0m\n",
      "\u001b[0m          cp $workingfile ./.pig/index/\u001b[0m\n",
      "\u001b[32m             ^----------^ SC2086 (info): Double quote to prevent globbing and word splitting.\u001b[0m\n",
      "\n",
      "\u001b[1mDid you mean: \u001b[0m\n",
      "          cp \"$workingfile\" ./.pig/index/\n",
      "\n",
      "\n",
      "\u001b[1mIn pigs-commit.sh line 68:\u001b[0m\n",
      "\u001b[0m    commit $2\u001b[0m\n",
      "\u001b[32m           ^-- SC2086 (info): Double quote to prevent globbing and word splitting.\u001b[0m\n",
      "\n",
      "\u001b[1mDid you mean: \u001b[0m\n",
      "    commit \"$2\"\n",
      "\n",
      "\n",
      "\u001b[1mIn pigs-commit.sh line 72:\u001b[0m\n",
      "\u001b[0m    commit $3\u001b[0m\n",
      "\u001b[32m           ^-- SC2086 (info): Double quote to prevent globbing and word splitting.\u001b[0m\n",
      "\n",
      "\u001b[1mDid you mean: \u001b[0m\n",
      "    commit \"$3\"\n",
      "\n",
      "For more information:\n",
      "  https://www.shellcheck.net/wiki/SC2066 -- Since you double quoted this, it ...\n",
      "  https://www.shellcheck.net/wiki/SC2010 -- Don't use ls | grep. Use a glob o...\n",
      "  https://www.shellcheck.net/wiki/SC2043 -- This loop will only ever run once...\n"
     ]
    }
   ],
   "source": [
    "!shellcheck pigs-commit.sh"
   ]
  },
  {
   "cell_type": "code",
   "execution_count": null,
   "metadata": {},
   "outputs": [],
   "source": [
    "$ pigs-rm b\n",
    "pigs-rm: error: 'b' is not in the pigs repository"
   ]
  },
  {
   "cell_type": "code",
   "execution_count": 278,
   "metadata": {},
   "outputs": [
    {
     "name": "stdout",
     "output_type": "stream",
     "text": [
      ".//.pig/objects/0 first commit/d\n",
      ".//.pig/index/d\n",
      ".//.git/objects/59/d042f822f1d0f80e45294ae31a897146e43135\n",
      ".//.git/objects/d9/cc02db7ceb0e22512839369b90ad842ac92493\n",
      ".//.git/objects/d7/b98814725f5bb50d62623fcca0b5f41af0a37b\n",
      ".//.git/objects/d7/4bd1d72bf96599dde2f52f042d9a7fff8bd0ea\n",
      ".//.git/objects/d7/dc8df12b48db247be07d33fb19a8a2cd8e017d\n",
      ".//.git/objects/d0/0491fd7e5bb6fa28c517a0bb32b8b506539d4d\n",
      ".//.git/objects/df/17c0513c871070f62a25d1d1e182924dd9cdb5\n",
      ".//.git/objects/df/1fc1d0d0b8844925f107586acdbef9f17f827f\n",
      ".//.git/objects/df/6a6572b5ce7a217a3a7e4a97392e98a45a6555\n",
      ".//.git/objects/da/e5dda539090235a48b5036d6d1b57940d23fdc\n",
      ".//.git/objects/d1/764fd299f1143734fcceb01b0250346572e6ba\n",
      ".//.git/objects/d1/7c193d019ba87a0fcba6d7db221273febb86a0\n",
      ".//.git/objects/d1/2c1ef5b1c4260756057d40c6f0d041b76847e3\n",
      ".//.git/objects/d8/844c8adf93f925f31110d907ac77cdb06cdf4c\n",
      ".//.git/objects/d8/657dec5586ee7b41ae1ed71a37d2b01e0eb742\n",
      ".//.git/objects/4e/dfaa8943877a586dbdd26c13704fb7b6c9488f\n",
      ".//.git/objects/37/d3b57fe2eb1db9dff7b22192dc2493679cccf9\n",
      ".//.git/objects/63/d8dbd40c23542e740659a7168a0ce3138ea748\n",
      ".//.git/objects/d4/ca8fc7f3d041d46247e9f50ad8b26eeece2045\n",
      ".//.git/objects/d4/64715ec3f73dbc0dcf3e574c57e17121212a92\n",
      ".//.git/objects/d4/da785db449b00bb1a5a40ecb28f1d52b3f77fe\n",
      ".//.git/objects/d4/84d9d5f5ec2c223d7d9bb771c4ca94b91003bc\n",
      ".//.git/objects/dd/a8205b4bea3b0dcdb858909111157ff2bd53f0\n",
      ".//.git/objects/dd/c74d6fd9a7b912454108b5ca85b0d4cd0576ac\n",
      ".//.git/objects/a9/d770f04ad588c1a6c46578207ffd615dba1145\n",
      ".//.git/objects/d5/eeff253c72b0b66a9bbc9159a94240caa0b426\n",
      ".//.git/objects/d5/ef05fb1fcff6efbf55b70f57793504fe620da2\n",
      ".//.git/objects/b7/dd21feb201dfaf661a034f5c93813e8f05d270\n",
      ".//.git/objects/db/529e24f6d5232295e59a0bc81a0ad791cc9325\n",
      ".//.git/objects/db/829d2fabec713aefea73d1fd739902fa3909ad\n",
      ".//.git/objects/de/3317aec8cd52b59f83ad80c40315599bb6d2e3\n",
      ".//.git/objects/de/a8c16d0763d84e47eaff2ed08be0486b2b4eb6\n",
      ".//.git/objects/de/c81a2515e3c82d48d2d2881f476770af66aa0c\n",
      ".//.git/objects/a1/d47e0cae0897ea7dca7070d3aa9009d9ab541c\n",
      ".//.git/objects/e0/d7e97374ec6b074b65b6056ce112182f7ca2f1\n",
      ".//.git/objects/79/d087fb938b09890365139fb4a1b2a4a6ec6174\n",
      ".//.git/objects/8d/dd197503249cc131ed54cc7c65f08f10d0e420\n",
      ".//.git/objects/15/d6e1327c195c6648f76cb548475eadd3d99d60\n",
      ".//.git/objects/2b/db28218a3029bb18d6f3dfd9963ad5b040a95b\n",
      ".//.git/objects/78/d9d5980dfc425a0182095ffb45a2ccffef57ce\n",
      ".//.git/description\n",
      "./.pig/index/g\n",
      "./.pig/index/a\n",
      "./.pig/index/f\n",
      "./.pig/index/c\n",
      "./.pig/index/d\n",
      "./.pig/index/b\n"
     ]
    }
   ],
   "source": [
    "!./testing_1.sh"
   ]
  },
  {
   "cell_type": "code",
   "execution_count": 404,
   "metadata": {},
   "outputs": [
    {
     "name": "stdout",
     "output_type": "stream",
     "text": [
      "\n",
      "\u001b[1mIn pigs-status.sh line 10:\u001b[0m\n",
      "\u001b[0m        number=$(echo $folder | cut -d \" \" -f1 | cut -d \"/\" -f3) \u001b[0m\n",
      "\u001b[32m                      ^-----^ SC2086 (info): Double quote to prevent globbing and word splitting.\u001b[0m\n",
      "\n",
      "\u001b[1mDid you mean: \u001b[0m\n",
      "        number=$(echo \"$folder\" | cut -d \" \" -f1 | cut -d \"/\" -f3) \n",
      "\n",
      "\n",
      "\u001b[1mIn pigs-status.sh line 17:\u001b[0m\n",
      "\u001b[0m    echo $max_folder\u001b[0m\n",
      "\u001b[32m         ^---------^ SC2086 (info): Double quote to prevent globbing and word splitting.\u001b[0m\n",
      "\n",
      "\u001b[1mDid you mean: \u001b[0m\n",
      "    echo \"$max_folder\"\n",
      "\n",
      "\n",
      "\u001b[1mIn pigs-status.sh line 22:\u001b[0m\n",
      "\u001b[0mfolder=$(echo $object_folder | cut -d\"/\" -f3)\u001b[0m\n",
      "\u001b[32m              ^------------^ SC2086 (info): Double quote to prevent globbing and word splitting.\u001b[0m\n",
      "\n",
      "\u001b[1mDid you mean: \u001b[0m\n",
      "folder=$(echo \"$object_folder\" | cut -d\"/\" -f3)\n",
      "\n",
      "\n",
      "\u001b[1mIn pigs-status.sh line 23:\u001b[0m\n",
      "\u001b[0mfoldername=$(echo $folder | tr \" \" \"/n\" |tr \"/\" \" \")\u001b[0m\n",
      "\u001b[32m                  ^-----^ SC2086 (info): Double quote to prevent globbing and word splitting.\u001b[0m\n",
      "\n",
      "\u001b[1mDid you mean: \u001b[0m\n",
      "foldername=$(echo \"$folder\" | tr \" \" \"/n\" |tr \"/\" \" \")\n",
      "\n",
      "\n",
      "\u001b[1mIn pigs-status.sh line 32:\u001b[0m\n",
      "\u001b[0mfor file_index in $index_path/*; do\u001b[0m\n",
      "\u001b[32m                  ^---------^ SC2231 (info): Quote expansions in this for loop glob to prevent wordsplitting, e.g. \"$dir\"/*.txt .\u001b[0m\n",
      "\n",
      "For more information:\n",
      "  https://www.shellcheck.net/wiki/SC2086 -- Double quote to prevent globbing ...\n",
      "  https://www.shellcheck.net/wiki/SC2231 -- Quote expansions in this for loop...\n"
     ]
    }
   ],
   "source": [
    "!shellcheck pigs-status.sh"
   ]
  },
  {
   "cell_type": "code",
   "execution_count": 236,
   "metadata": {},
   "outputs": [],
   "source": [
    "!chmod u+x running_test_20.sh"
   ]
  },
  {
   "cell_type": "code",
   "execution_count": 515,
   "metadata": {},
   "outputs": [
    {
     "name": "stdout",
     "output_type": "stream",
     "text": [
      "grep: unrecognized option `--cached'\n",
      "usage: grep [-abcdDEFGHhIiJLlMmnOopqRSsUVvwXxZz] [-A num] [-B num] [-C[num]]\n",
      "\t[-e pattern] [-f file] [--binary-files=value] [--color=when]\n",
      "\t[--context[=num]] [--directories=action] [--label] [--line-buffered]\n",
      "\t[--null] [pattern] [file ...]\n",
      "grep: unrecognized option `--cached'\n",
      "usage: grep [-abcdDEFGHhIiJLlMmnOopqRSsUVvwXxZz] [-A num] [-B num] [-C[num]]\n",
      "\t[-e pattern] [-f file] [--binary-files=value] [--color=when]\n",
      "\t[--context[=num]] [--directories=action] [--label] [--line-buffered]\n",
      "\t[--null] [pattern] [file ...]\n",
      "grep: unrecognized option `--cached'\n",
      "usage: grep [-abcdDEFGHhIiJLlMmnOopqRSsUVvwXxZz] [-A num] [-B num] [-C[num]]\n",
      "\t[-e pattern] [-f file] [--binary-files=value] [--color=when]\n",
      "\t[--context[=num]] [--directories=action] [--label] [--line-buffered]\n",
      "\t[--null] [pattern] [file ...]\n"
     ]
    }
   ],
   "source": [
    "!./pigs-rm.sh --cached a b"
   ]
  },
  {
   "cell_type": "code",
   "execution_count": 737,
   "metadata": {},
   "outputs": [
    {
     "name": "stdout",
     "output_type": "stream",
     "text": [
      "rm: b: No such file or directory\n"
     ]
    }
   ],
   "source": [
    "rm b"
   ]
  },
  {
   "cell_type": "code",
   "execution_count": 782,
   "metadata": {},
   "outputs": [
    {
     "name": "stdout",
     "output_type": "stream",
     "text": [
      "yes\n"
     ]
    }
   ],
   "source": [
    "!./testing_3.sh b"
   ]
  },
  {
   "cell_type": "code",
   "execution_count": 395,
   "metadata": {},
   "outputs": [],
   "source": [
    "!chmod u+x running_test_23.sh"
   ]
  },
  {
   "cell_type": "code",
   "execution_count": 399,
   "metadata": {},
   "outputs": [
    {
     "name": "stdout",
     "output_type": "stream",
     "text": [
      "Committed as commit 0\n"
     ]
    }
   ],
   "source": [
    "!./running_test_23.sh"
   ]
  },
  {
   "cell_type": "code",
   "execution_count": 447,
   "metadata": {},
   "outputs": [],
   "source": []
  },
  {
   "cell_type": "code",
   "execution_count": 378,
   "metadata": {},
   "outputs": [
    {
     "name": "stdout",
     "output_type": "stream",
     "text": [
      "README.md a b c commit e notes.ipynb pigs-add.sh pigs-commit.sh pigs-init.sh pigs-log.sh pigs-rm notes pigs-rm.sh pigs-show.sh pigs-status.sh running_test_15.sh running_test_17.sh running_test_18.sh running_test_19.sh running_test_20.sh test00.sh testing.ipynb testing_1.sh testing_2.sh testing_3.sh zbackup.ipynb zchange log.txt zclean_up.sh a b c e\n",
      "README.md - untracked\n",
      "a - deleted from index\n",
      "b - deleted from index\n",
      "c - deleted from index\n",
      "commit - untracked\n",
      "e - untracked\n",
      "notes.ipynb - untracked\n",
      "pigs-add.sh - untracked\n",
      "pigs-commit.sh - untracked\n",
      "pigs-init.sh - untracked\n",
      "pigs-log.sh - untracked\n",
      "pigs-rm notes - untracked\n",
      "pigs-rm.sh - untracked\n",
      "pigs-show.sh - untracked\n",
      "pigs-status.sh - untracked\n",
      "running_test_15.sh - untracked\n",
      "running_test_17.sh - untracked\n",
      "running_test_18.sh - untracked\n",
      "running_test_19.sh - untracked\n",
      "running_test_20.sh - untracked\n",
      "test00.sh - untracked\n",
      "testing.ipynb - untracked\n",
      "testing_1.sh - untracked\n",
      "testing_2.sh - untracked\n",
      "testing_3.sh - untracked\n",
      "zbackup.ipynb - untracked\n",
      "zchange log.txt - untracked\n",
      "zclean_up.sh - untracked\n",
      "a - deleted from index\n",
      "b - deleted from index\n",
      "c - deleted from index\n",
      "e - untracked\n"
     ]
    }
   ],
   "source": [
    "!./pigs-status.sh"
   ]
  },
  {
   "cell_type": "code",
   "execution_count": 403,
   "metadata": {},
   "outputs": [
    {
     "name": "stdout",
     "output_type": "stream",
     "text": [
      "a - same as repo\n",
      "b - added to index, file changed\n"
     ]
    }
   ],
   "source": [
    "!./pigs-status.sh"
   ]
  },
  {
   "attachments": {},
   "cell_type": "markdown",
   "metadata": {},
   "source": [
    "elif [ ! -e \".pig/objects/$foldername/$arg_force\" ] || [ ! -e \".pig/index/$arg_force\" ] >/dev/null 2>&1; then\n",
    "testing 19 \n",
    "w d:0 index d:7 commit: n/a\n",
    "pig-rm --force d\n",
    "# file should be deleted\n",
    "\n",
    "\n",
    "\n",
    "elif [ ! -e \".pig/objects/$foldername/$arg_force\" ] >/dev/null 2>&1; then\n",
    "test 18\n",
    "w a:1,4  index: n/a commit: a:1\n",
    "$ pigs-rm --force a\n",
    "# pigs-rm.sh: error: 'a' is not in the pigs repository\n"
   ]
  },
  {
   "cell_type": "code",
   "execution_count": 392,
   "metadata": {},
   "outputs": [
    {
     "name": "stdout",
     "output_type": "stream",
     "text": [
      "0 first commit\n"
     ]
    }
   ],
   "source": [
    "!./testing_1.sh"
   ]
  },
  {
   "cell_type": "markdown",
   "metadata": {},
   "source": [
    "b - added to index, file changed\n",
    "c - added to index, file deleted"
   ]
  },
  {
   "cell_type": "code",
   "execution_count": 532,
   "metadata": {},
   "outputs": [],
   "source": [
    "!chmod u+x running_test_03.sh"
   ]
  },
  {
   "cell_type": "code",
   "execution_count": 426,
   "metadata": {},
   "outputs": [
    {
     "name": "stdout",
     "output_type": "stream",
     "text": [
      "./testing_script_1.sh: line 5: pigs-init: command not found\n",
      "pigs-init test failed\n",
      "./testing_script_1.sh: line 5: pigs-init: command not found\n",
      "\n",
      "\n",
      "./testing_script_1.sh: line 5: pigs-add: command not found\n",
      "\n",
      "./testing_script_1.sh: line 5: pigs-commit: command not found\n",
      "\n",
      "\n",
      "\n",
      "\n",
      "./testing_script_1.sh: line 5: pigs-add: command not found\n",
      "\n",
      "\n",
      "\n",
      "./testing_script_1.sh: line 5: pigs-rm: command not found\n",
      "\n",
      "./testing_script_1.sh: line 5: pigs-add: command not found\n",
      "\n",
      "./testing_script_1.sh: line 5: pigs-status: command not found\n",
      "pigs-status test failed\n"
     ]
    }
   ],
   "source": [
    "!./testing_script_1.sh"
   ]
  },
  {
   "cell_type": "code",
   "execution_count": 474,
   "metadata": {},
   "outputs": [
    {
     "name": "stdout",
     "output_type": "stream",
     "text": [
      "Passed: pigs-init.sh initializes an empty pigs repository\n"
     ]
    }
   ],
   "source": [
    "!./test00.sh\n"
   ]
  },
  {
   "cell_type": "code",
   "execution_count": 588,
   "metadata": {},
   "outputs": [],
   "source": [
    "!chmod u+x test05.sh"
   ]
  },
  {
   "cell_type": "code",
   "execution_count": 533,
   "metadata": {},
   "outputs": [
    {
     "name": "stdout",
     "output_type": "stream",
     "text": [
      "./pigs-init.sh: error: .pig already exists\n",
      "Committed as commit 2\n",
      "Committed as commit 3\n"
     ]
    }
   ],
   "source": [
    "!./running_test_03.sh"
   ]
  },
  {
   "cell_type": "code",
   "execution_count": 484,
   "metadata": {},
   "outputs": [],
   "source": [
    "!./zclean_up.sh"
   ]
  },
  {
   "cell_type": "code",
   "execution_count": 480,
   "metadata": {},
   "outputs": [
    {
     "name": "stdout",
     "output_type": "stream",
     "text": [
      "./pigs-init.sh: error: .pig already exists\n"
     ]
    }
   ],
   "source": [
    "!./pigs-init.sh"
   ]
  },
  {
   "cell_type": "code",
   "execution_count": 714,
   "metadata": {},
   "outputs": [
    {
     "name": "stdout",
     "output_type": "stream",
     "text": [
      "./test04_add_commit_show.sh: 20: ./pigs-init: not found\n",
      "./pigs-init\n",
      "\n",
      "Failed \n"
     ]
    }
   ],
   "source": [
    "!./test04_add_commit_show.sh"
   ]
  },
  {
   "cell_type": "code",
   "execution_count": 697,
   "metadata": {},
   "outputs": [],
   "source": [
    "!chmod u+x test09.sh"
   ]
  },
  {
   "cell_type": "code",
   "execution_count": 492,
   "metadata": {},
   "outputs": [
    {
     "name": "stdout",
     "output_type": "stream",
     "text": [
      "\u001b[31mzclean_up.sh\u001b[m\u001b[m\n"
     ]
    }
   ],
   "source": [
    "!ls zclean_up.sh\n"
   ]
  },
  {
   "cell_type": "code",
   "execution_count": 613,
   "metadata": {},
   "outputs": [],
   "source": [
    "!shellcheck pigs-commit.sh"
   ]
  },
  {
   "cell_type": "code",
   "execution_count": 633,
   "metadata": {},
   "outputs": [
    {
     "name": "stdout",
     "output_type": "stream",
     "text": [
      "\u001b[34m1 second commit\u001b[m\u001b[m\n",
      "\u001b[34m0 first commit\u001b[m\u001b[m\n"
     ]
    }
   ],
   "source": [
    "!./pigs-log.sh"
   ]
  },
  {
   "cell_type": "code",
   "execution_count": 708,
   "metadata": {},
   "outputs": [],
   "source": [
    "!chmod u+x clean_up.sh"
   ]
  },
  {
   "cell_type": "code",
   "execution_count": 711,
   "metadata": {},
   "outputs": [],
   "source": [
    "!./clean_up.sh"
   ]
  },
  {
   "cell_type": "code",
   "execution_count": 720,
   "metadata": {},
   "outputs": [
    {
     "name": "stdout",
     "output_type": "stream",
     "text": [
      "\n",
      "\u001b[1mIn pigs-commit.sh line 27:\u001b[0m\n",
      "\u001b[0m            object_folder_name=$(ls ./.pig/objects/ | grep -E \"$max\") #substitue it\u001b[0m\n",
      "\u001b[33m                                 ^-- SC2010 (warning): Don't use ls | grep. Use a glob or a for loop with a condition to allow non-alphanumeric filenames.\u001b[0m\n",
      "\n",
      "For more information:\n",
      "  https://www.shellcheck.net/wiki/SC2010 -- Don't use ls | grep. Use a glob o...\n"
     ]
    }
   ],
   "source": [
    "!shellcheck pigs-commit.sh"
   ]
  },
  {
   "cell_type": "code",
   "execution_count": null,
   "metadata": {},
   "outputs": [],
   "source": []
  }
 ],
 "metadata": {
  "kernelspec": {
   "display_name": "Python 3",
   "language": "python",
   "name": "python3"
  },
  "language_info": {
   "codemirror_mode": {
    "name": "ipython",
    "version": 3
   },
   "file_extension": ".py",
   "mimetype": "text/x-python",
   "name": "python",
   "nbconvert_exporter": "python",
   "pygments_lexer": "ipython3",
   "version": "3.11.3"
  },
  "orig_nbformat": 4
 },
 "nbformat": 4,
 "nbformat_minor": 2
}
