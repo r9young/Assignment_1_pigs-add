{
 "cells": [
  {
   "cell_type": "code",
   "execution_count": 1,
   "metadata": {},
   "outputs": [],
   "source": [
    "!touch a b c d e f"
   ]
  },
  {
   "cell_type": "code",
   "execution_count": 38,
   "metadata": {},
   "outputs": [],
   "source": [
    "!chmod u+x pigs-log.sh"
   ]
  },
  {
   "cell_type": "code",
   "execution_count": 8,
   "metadata": {},
   "outputs": [
    {
     "name": "stdout",
     "output_type": "stream",
     "text": [
      "\n",
      "\u001b[1mIn pigs-add.sh line 12:\u001b[0m\n",
      "\u001b[0m        cp $file_add .pig/index\u001b[0m\n",
      "\u001b[32m           ^-------^ SC2086 (info): Double quote to prevent globbing and word splitting.\u001b[0m\n",
      "\n",
      "\u001b[1mDid you mean: \u001b[0m\n",
      "        cp \"$file_add\" .pig/index\n",
      "\n",
      "For more information:\n",
      "  https://www.shellcheck.net/wiki/SC2086 -- Double quote to prevent globbing ...\n"
     ]
    }
   ],
   "source": [
    "!shellcheck pigs-add.sh"
   ]
  },
  {
   "cell_type": "code",
   "execution_count": 36,
   "metadata": {},
   "outputs": [
    {
     "name": "stdout",
     "output_type": "stream",
     "text": [
      "f.txt does not exist in the directory, so it has been added\n",
      "g.txt does not exist in the directory, so it has been added\n"
     ]
    }
   ],
   "source": [
    "!./pigs-add.sh f.txt g.txt"
   ]
  },
  {
   "cell_type": "code",
   "execution_count": 26,
   "metadata": {},
   "outputs": [
    {
     "name": "stdout",
     "output_type": "stream",
     "text": [
      "c.txt is in the directory\n"
     ]
    }
   ],
   "source": [
    "!./pigs-add.sh c.txt"
   ]
  },
  {
   "cell_type": "code",
   "execution_count": 3,
   "metadata": {},
   "outputs": [
    {
     "name": "stdout",
     "output_type": "stream",
     "text": [
      "zsh:1: no matches found: .pig/index/.snapshot.*/*\n"
     ]
    }
   ],
   "source": [
    "!ls .pig/index/.snapshot.*/*"
   ]
  },
  {
   "cell_type": "code",
   "execution_count": 46,
   "metadata": {},
   "outputs": [],
   "source": [
    "!chmod u+x testing.sh"
   ]
  },
  {
   "cell_type": "code",
   "execution_count": 51,
   "metadata": {},
   "outputs": [
    {
     "name": "stdout",
     "output_type": "stream",
     "text": [
      ".pig/index/.snapshot.0\n",
      ".pig/index/.snapshot.1\n"
     ]
    }
   ],
   "source": [
    "!./testing.sh"
   ]
  },
  {
   "cell_type": "code",
   "execution_count": 33,
   "metadata": {},
   "outputs": [],
   "source": [
    "!./pigs-log.sh"
   ]
  },
  {
   "cell_type": "code",
   "execution_count": 48,
   "metadata": {},
   "outputs": [
    {
     "name": "stdout",
     "output_type": "stream",
     "text": [
      "\u001b[34m2 third commit\u001b[m\u001b[m\n",
      "\u001b[34m1 second commit\u001b[m\u001b[m\n",
      "\u001b[34m0 first commit\u001b[m\u001b[m\n"
     ]
    }
   ],
   "source": [
    "!ls .pig/objects/ | sort -t '/' -k3 -nr\n"
   ]
  },
  {
   "cell_type": "code",
   "execution_count": 67,
   "metadata": {},
   "outputs": [],
   "source": [
    "!touch d"
   ]
  },
  {
   "cell_type": "code",
   "execution_count": 65,
   "metadata": {},
   "outputs": [
    {
     "name": "stdout",
     "output_type": "stream",
     "text": [
      "./pigs-add.sh: error: can not open 'non_existent_file'\n"
     ]
    }
   ],
   "source": [
    "!./pigs-add.sh adsf"
   ]
  },
  {
   "cell_type": "code",
   "execution_count": 52,
   "metadata": {},
   "outputs": [
    {
     "name": "stdout",
     "output_type": "stream",
     "text": [
      "zsh:1: command not found: pigs-log.sh\n"
     ]
    }
   ],
   "source": []
  },
  {
   "cell_type": "code",
   "execution_count": null,
   "metadata": {},
   "outputs": [],
   "source": []
  },
  {
   "attachments": {},
   "cell_type": "markdown",
   "metadata": {},
   "source": [
    "Test subset0_4 (add with no previous init) - failed (Incorrect output)\n",
    "Your program produced these 4 lines of output:\n",
    "$ touch a\n",
    "$ pigs-add a\n",
    "cp: cannot create regular file '.pig/index/': No such file or directory\n",
    "*** TEST STOPPED: incorrect output from pigs command\n",
    "\n",
    "\n",
    "\n",
    "first thing tomorrow morning: \n",
    "\n",
    "    as there is no previous init, so init file does not exist.\n",
    "    so the error message: pigs-add: error: pigs repository directory .pig not found\n"
   ]
  },
  {
   "cell_type": "code",
   "execution_count": 26,
   "metadata": {},
   "outputs": [
    {
     "name": "stdout",
     "output_type": "stream",
     "text": [
      "./pigs-show.sh: line 13: /.pig/objects/.snapshot.0/a: No such file or directory\n"
     ]
    }
   ],
   "source": [
    "!./pigs-show.sh 0:a"
   ]
  },
  {
   "cell_type": "code",
   "execution_count": 5,
   "metadata": {},
   "outputs": [
    {
     "name": "stdout",
     "output_type": "stream",
     "text": [
      "chmod: 0:b: No such file or directory\n"
     ]
    }
   ],
   "source": [
    "!chmod u+x pigs-show.sh "
   ]
  },
  {
   "cell_type": "code",
   "execution_count": 8,
   "metadata": {},
   "outputs": [
    {
     "name": "stdout",
     "output_type": "stream",
     "text": [
      "Initialized empty pigs repository in .pig\n"
     ]
    }
   ],
   "source": [
    "!./pigs-init.sh"
   ]
  },
  {
   "cell_type": "code",
   "execution_count": 62,
   "metadata": {},
   "outputs": [
    {
     "name": "stdout",
     "output_type": "stream",
     "text": [
      "a is in the directory\n"
     ]
    }
   ],
   "source": [
    "!./pigs-add.sh a"
   ]
  },
  {
   "cell_type": "code",
   "execution_count": 64,
   "metadata": {},
   "outputs": [
    {
     "name": "stdout",
     "output_type": "stream",
     "text": [
      "Committed as commit 4\n"
     ]
    }
   ],
   "source": [
    "!./pigs-commit.sh abc"
   ]
  },
  {
   "cell_type": "code",
   "execution_count": 108,
   "metadata": {},
   "outputs": [
    {
     "name": "stdout",
     "output_type": "stream",
     "text": [
      "./pigs-show.sh: error: 'x' not found in index\n"
     ]
    }
   ],
   "source": [
    "!./pigs-show.sh :x"
   ]
  },
  {
   "cell_type": "code",
   "execution_count": 32,
   "metadata": {},
   "outputs": [],
   "source": [
    "!echo hello > a"
   ]
  },
  {
   "cell_type": "code",
   "execution_count": 54,
   "metadata": {},
   "outputs": [
    {
     "name": "stdout",
     "output_type": "stream",
     "text": [
      "./testing.sh: error: can not open 'non_existent_file'\n"
     ]
    }
   ],
   "source": [
    "!./testing.sh sadfasf"
   ]
  },
  {
   "cell_type": "code",
   "execution_count": 58,
   "metadata": {},
   "outputs": [
    {
     "name": "stdout",
     "output_type": "stream",
     "text": [
      "zsh:1: no such file or directory: ./pwd\n"
     ]
    }
   ],
   "source": [
    "!./pwd"
   ]
  },
  {
   "cell_type": "code",
   "execution_count": 59,
   "metadata": {},
   "outputs": [
    {
     "name": "stdout",
     "output_type": "stream",
     "text": [
      "/Users/yang/Library/CloudStorage/OneDrive-Personal/Git/COMP9044/Assignments/Assignment_1/COMP9044_Assignment_1_testing_1/Subset X Testing\n"
     ]
    }
   ],
   "source": [
    "!pwd"
   ]
  },
  {
   "cell_type": "code",
   "execution_count": 150,
   "metadata": {},
   "outputs": [
    {
     "name": "stdout",
     "output_type": "stream",
     "text": [
      "\n",
      "\u001b[1mIn pigs-show.sh line 5:\u001b[0m\n",
      "\u001b[0mfolder_serial=$(echo $input | cut -d \":\" -f1)\u001b[0m\n",
      "\u001b[32m                     ^----^ SC2086 (info): Double quote to prevent globbing and word splitting.\u001b[0m\n",
      "\n",
      "\u001b[1mDid you mean: \u001b[0m\n",
      "folder_serial=$(echo \"$input\" | cut -d \":\" -f1)\n",
      "\n",
      "\n",
      "\u001b[1mIn pigs-show.sh line 6:\u001b[0m\n",
      "\u001b[0mfolder_name=$(ls .pig/objects | grep -E \"$folder_serial.*\")\u001b[0m\n",
      "\u001b[33m              ^-- SC2010 (warning): Don't use ls | grep. Use a glob or a for loop with a condition to allow non-alphanumeric filenames.\u001b[0m\n",
      "\n",
      "\n",
      "\u001b[1mIn pigs-show.sh line 7:\u001b[0m\n",
      "\u001b[0mfile_name=$(echo $input | cut -d \":\" -f2 )\u001b[0m\n",
      "\u001b[32m                 ^----^ SC2086 (info): Double quote to prevent globbing and word splitting.\u001b[0m\n",
      "\n",
      "\u001b[1mDid you mean: \u001b[0m\n",
      "file_name=$(echo \"$input\" | cut -d \":\" -f2 )\n",
      "\n",
      "\n",
      "\u001b[1mIn pigs-show.sh line 9:\u001b[0m\n",
      "\u001b[0mobject_path=\".pig/objects\"\u001b[0m\n",
      "\u001b[33m^---------^ SC2034 (warning): object_path appears unused. Verify use (or export if used externally).\u001b[0m\n",
      "\n",
      "\n",
      "\u001b[1mIn pigs-show.sh line 16:\u001b[0m\n",
      "\u001b[0mif [ -z $folder_serial ]; then\u001b[0m\n",
      "\u001b[32m        ^------------^ SC2086 (info): Double quote to prevent globbing and word splitting.\u001b[0m\n",
      "\n",
      "\u001b[1mDid you mean: \u001b[0m\n",
      "if [ -z \"$folder_serial\" ]; then\n",
      "\n",
      "For more information:\n",
      "  https://www.shellcheck.net/wiki/SC2010 -- Don't use ls | grep. Use a glob o...\n",
      "  https://www.shellcheck.net/wiki/SC2034 -- object_path appears unused. Verif...\n",
      "  https://www.shellcheck.net/wiki/SC2086 -- Double quote to prevent globbing ...\n"
     ]
    }
   ],
   "source": [
    "!shellcheck pigs-show.sh"
   ]
  },
  {
   "cell_type": "code",
   "execution_count": 185,
   "metadata": {},
   "outputs": [
    {
     "name": "stdout",
     "output_type": "stream",
     "text": [
      "0 first commit\n"
     ]
    }
   ],
   "source": [
    "!./testing.sh 0:a"
   ]
  },
  {
   "cell_type": "markdown",
   "metadata": {},
   "source": []
  },
  {
   "cell_type": "code",
   "execution_count": 180,
   "metadata": {},
   "outputs": [
    {
     "name": "stdout",
     "output_type": "stream",
     "text": [
      "Committed as commit 5\n"
     ]
    }
   ],
   "source": [
    "!./pigs-commit.sh -m \"third commit\""
   ]
  },
  {
   "cell_type": "markdown",
   "metadata": {},
   "source": []
  },
  {
   "cell_type": "code",
   "execution_count": 62,
   "metadata": {},
   "outputs": [
    {
     "name": "stdout",
     "output_type": "stream",
     "text": [
      "\u001b[34m2 third commit\u001b[m\u001b[m\n",
      "\u001b[34m1 second commit\u001b[m\u001b[m\n",
      "\u001b[34m0 first commit\u001b[m\u001b[m\n"
     ]
    }
   ],
   "source": [
    "!./pigs-log.sh"
   ]
  },
  {
   "cell_type": "code",
   "execution_count": 124,
   "metadata": {},
   "outputs": [
    {
     "name": "stdout",
     "output_type": "stream",
     "text": [
      "pigs-show.sh: line 32: .pig/objects/\u001b[34m0 first commit\u001b[m\u001b[m/a: No such file or directory\n"
     ]
    }
   ],
   "source": [
    "!bash pigs-show.sh 0:a\n",
    "\n"
   ]
  },
  {
   "cell_type": "code",
   "execution_count": 119,
   "metadata": {},
   "outputs": [
    {
     "name": "stdout",
     "output_type": "stream",
     "text": [
      ".pig/objects/1 second commit/a\n",
      "yes\n"
     ]
    }
   ],
   "source": [
    "!./testing.sh "
   ]
  },
  {
   "cell_type": "code",
   "execution_count": null,
   "metadata": {},
   "outputs": [],
   "source": [
    ".pig/objects/1 second commit/a"
   ]
  },
  {
   "cell_type": "code",
   "execution_count": 55,
   "metadata": {},
   "outputs": [
    {
     "name": "stdout",
     "output_type": "stream",
     "text": [
      "\u001b[34m0 first commit\u001b[m\u001b[m\n"
     ]
    }
   ],
   "source": [
    "!ls ./.pig/objects/ | grep -E \"0\""
   ]
  },
  {
   "cell_type": "code",
   "execution_count": null,
   "metadata": {},
   "outputs": [],
   "source": []
  }
 ],
 "metadata": {
  "kernelspec": {
   "display_name": "Python 3",
   "language": "python",
   "name": "python3"
  },
  "language_info": {
   "codemirror_mode": {
    "name": "ipython",
    "version": 3
   },
   "file_extension": ".py",
   "mimetype": "text/x-python",
   "name": "python",
   "nbconvert_exporter": "python",
   "pygments_lexer": "ipython3",
   "version": "3.11.3"
  },
  "orig_nbformat": 4
 },
 "nbformat": 4,
 "nbformat_minor": 2
}
