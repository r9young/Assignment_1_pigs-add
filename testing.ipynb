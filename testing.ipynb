{
 "cells": [
  {
   "cell_type": "code",
   "execution_count": 1,
   "metadata": {},
   "outputs": [],
   "source": [
    "!touch a b c d e f"
   ]
  },
  {
   "cell_type": "code",
   "execution_count": 38,
   "metadata": {},
   "outputs": [],
   "source": [
    "!chmod u+x pigs-log.sh"
   ]
  },
  {
   "cell_type": "code",
   "execution_count": 287,
   "metadata": {},
   "outputs": [
    {
     "name": "stdout",
     "output_type": "stream",
     "text": [
      "\n",
      "\u001b[1mIn pigs-rm.sh line 7:\u001b[0m\n",
      "\u001b[0mcomit_dir=\".pig/objects\"\u001b[0m\n",
      "\u001b[33m^-------^ SC2034 (warning): comit_dir appears unused. Verify use (or export if used externally).\u001b[0m\n",
      "\n",
      "\n",
      "\u001b[1mIn pigs-rm.sh line 8:\u001b[0m\n",
      "\u001b[0mworking_dir=\".\"\u001b[0m\n",
      "\u001b[33m^---------^ SC2034 (warning): working_dir appears unused. Verify use (or export if used externally).\u001b[0m\n",
      "\n",
      "\n",
      "\u001b[1mIn pigs-rm.sh line 13:\u001b[0m\n",
      "\u001b[0m    if [ ! -f $stage_dir/$filename ]; then\u001b[0m\n",
      "\u001b[32m                         ^-------^ SC2086 (info): Double quote to prevent globbing and word splitting.\u001b[0m\n",
      "\n",
      "\u001b[1mDid you mean: \u001b[0m\n",
      "    if [ ! -f $stage_dir/\"$filename\" ]; then\n",
      "\n",
      "\n",
      "\u001b[1mIn pigs-rm.sh line 14:\u001b[0m\n",
      "\u001b[0m        echo \"$0: error: \"$filename\" is not in the pigs repository\"\u001b[0m\n",
      "\u001b[33m                          ^-------^ SC2027 (warning): The surrounding quotes actually unquote this. Remove or escape them.\u001b[0m\n",
      "\u001b[32m                          ^-------^ SC2086 (info): Double quote to prevent globbing and word splitting.\u001b[0m\n",
      "\n",
      "\u001b[1mDid you mean: \u001b[0m\n",
      "        echo \"$0: error: \"\"$filename\"\" is not in the pigs repository\"\n",
      "\n",
      "For more information:\n",
      "  https://www.shellcheck.net/wiki/SC2027 -- The surrounding quotes actually u...\n",
      "  https://www.shellcheck.net/wiki/SC2034 -- comit_dir appears unused. Verify ...\n",
      "  https://www.shellcheck.net/wiki/SC2086 -- Double quote to prevent globbing ...\n"
     ]
    }
   ],
   "source": [
    "!shellcheck pigs-rm.sh"
   ]
  },
  {
   "cell_type": "code",
   "execution_count": 36,
   "metadata": {},
   "outputs": [
    {
     "name": "stdout",
     "output_type": "stream",
     "text": [
      "f.txt does not exist in the directory, so it has been added\n",
      "g.txt does not exist in the directory, so it has been added\n"
     ]
    }
   ],
   "source": [
    "!./pigs-add.sh f.txt g.txt"
   ]
  },
  {
   "cell_type": "code",
   "execution_count": 26,
   "metadata": {},
   "outputs": [
    {
     "name": "stdout",
     "output_type": "stream",
     "text": [
      "c.txt is in the directory\n"
     ]
    }
   ],
   "source": [
    "!./pigs-add.sh c.txt"
   ]
  },
  {
   "cell_type": "code",
   "execution_count": 3,
   "metadata": {},
   "outputs": [
    {
     "name": "stdout",
     "output_type": "stream",
     "text": [
      "zsh:1: no matches found: .pig/index/.snapshot.*/*\n"
     ]
    }
   ],
   "source": [
    "!ls .pig/index/.snapshot.*/*"
   ]
  },
  {
   "cell_type": "code",
   "execution_count": 46,
   "metadata": {},
   "outputs": [],
   "source": [
    "!chmod u+x testing.sh"
   ]
  },
  {
   "cell_type": "code",
   "execution_count": 51,
   "metadata": {},
   "outputs": [
    {
     "name": "stdout",
     "output_type": "stream",
     "text": [
      ".pig/index/.snapshot.0\n",
      ".pig/index/.snapshot.1\n"
     ]
    }
   ],
   "source": [
    "!./testing.sh"
   ]
  },
  {
   "cell_type": "code",
   "execution_count": 33,
   "metadata": {},
   "outputs": [],
   "source": [
    "!./pigs-log.sh"
   ]
  },
  {
   "cell_type": "code",
   "execution_count": 48,
   "metadata": {},
   "outputs": [
    {
     "name": "stdout",
     "output_type": "stream",
     "text": [
      "\u001b[34m2 third commit\u001b[m\u001b[m\n",
      "\u001b[34m1 second commit\u001b[m\u001b[m\n",
      "\u001b[34m0 first commit\u001b[m\u001b[m\n"
     ]
    }
   ],
   "source": [
    "!ls .pig/objects/ | sort -t '/' -k3 -nr\n"
   ]
  },
  {
   "cell_type": "code",
   "execution_count": 67,
   "metadata": {},
   "outputs": [],
   "source": [
    "!touch d"
   ]
  },
  {
   "cell_type": "code",
   "execution_count": 65,
   "metadata": {},
   "outputs": [
    {
     "name": "stdout",
     "output_type": "stream",
     "text": [
      "./pigs-add.sh: error: can not open 'non_existent_file'\n"
     ]
    }
   ],
   "source": [
    "!./pigs-add.sh adsf"
   ]
  },
  {
   "cell_type": "code",
   "execution_count": 52,
   "metadata": {},
   "outputs": [
    {
     "name": "stdout",
     "output_type": "stream",
     "text": [
      "zsh:1: command not found: pigs-log.sh\n"
     ]
    }
   ],
   "source": []
  },
  {
   "cell_type": "code",
   "execution_count": null,
   "metadata": {},
   "outputs": [],
   "source": []
  },
  {
   "attachments": {},
   "cell_type": "markdown",
   "metadata": {},
   "source": [
    "Test subset0_4 (add with no previous init) - failed (Incorrect output)\n",
    "Your program produced these 4 lines of output:\n",
    "$ touch a\n",
    "$ pigs-add a\n",
    "cp: cannot create regular file '.pig/index/': No such file or directory\n",
    "*** TEST STOPPED: incorrect output from pigs command\n",
    "\n",
    "\n",
    "\n",
    "first thing tomorrow morning: \n",
    "\n",
    "    as there is no previous init, so init file does not exist.\n",
    "    so the error message: pigs-add: error: pigs repository directory .pig not found\n"
   ]
  },
  {
   "cell_type": "code",
   "execution_count": 26,
   "metadata": {},
   "outputs": [
    {
     "name": "stdout",
     "output_type": "stream",
     "text": [
      "./pigs-show.sh: line 13: /.pig/objects/.snapshot.0/a: No such file or directory\n"
     ]
    }
   ],
   "source": [
    "!./pigs-show.sh 0:a"
   ]
  },
  {
   "cell_type": "code",
   "execution_count": 5,
   "metadata": {},
   "outputs": [
    {
     "name": "stdout",
     "output_type": "stream",
     "text": [
      "chmod: 0:b: No such file or directory\n"
     ]
    }
   ],
   "source": [
    "!chmod u+x pigs-show.sh "
   ]
  },
  {
   "cell_type": "code",
   "execution_count": 8,
   "metadata": {},
   "outputs": [
    {
     "name": "stdout",
     "output_type": "stream",
     "text": [
      "Initialized empty pigs repository in .pig\n"
     ]
    }
   ],
   "source": [
    "!./pigs-init.sh"
   ]
  },
  {
   "cell_type": "code",
   "execution_count": 62,
   "metadata": {},
   "outputs": [
    {
     "name": "stdout",
     "output_type": "stream",
     "text": [
      "a is in the directory\n"
     ]
    }
   ],
   "source": [
    "!./pigs-add.sh a"
   ]
  },
  {
   "cell_type": "code",
   "execution_count": 64,
   "metadata": {},
   "outputs": [
    {
     "name": "stdout",
     "output_type": "stream",
     "text": [
      "Committed as commit 4\n"
     ]
    }
   ],
   "source": [
    "!./pigs-commit.sh abc"
   ]
  },
  {
   "cell_type": "code",
   "execution_count": 127,
   "metadata": {},
   "outputs": [
    {
     "name": "stdout",
     "output_type": "stream",
     "text": [
      "\n"
     ]
    }
   ],
   "source": [
    "!./pigs-show.sh 7:x"
   ]
  },
  {
   "cell_type": "code",
   "execution_count": 32,
   "metadata": {},
   "outputs": [],
   "source": [
    "!echo hello > a"
   ]
  },
  {
   "cell_type": "code",
   "execution_count": 54,
   "metadata": {},
   "outputs": [
    {
     "name": "stdout",
     "output_type": "stream",
     "text": [
      "./testing.sh: error: can not open 'non_existent_file'\n"
     ]
    }
   ],
   "source": [
    "!./testing.sh sadfasf"
   ]
  },
  {
   "cell_type": "code",
   "execution_count": 58,
   "metadata": {},
   "outputs": [
    {
     "name": "stdout",
     "output_type": "stream",
     "text": [
      "zsh:1: no such file or directory: ./pwd\n"
     ]
    }
   ],
   "source": [
    "!./pwd"
   ]
  },
  {
   "cell_type": "code",
   "execution_count": 59,
   "metadata": {},
   "outputs": [
    {
     "name": "stdout",
     "output_type": "stream",
     "text": [
      "/Users/yang/Library/CloudStorage/OneDrive-Personal/Git/COMP9044/Assignments/Assignment_1/COMP9044_Assignment_1_testing_1/Subset X Testing\n"
     ]
    }
   ],
   "source": [
    "!pwd"
   ]
  },
  {
   "cell_type": "code",
   "execution_count": 126,
   "metadata": {},
   "outputs": [
    {
     "name": "stdout",
     "output_type": "stream",
     "text": [
      "\n",
      "\u001b[1mIn pigs-show.sh line 5:\u001b[0m\n",
      "\u001b[0minfo=\"$(echo $input)\"\u001b[0m\n",
      "\u001b[32m      ^------------^ SC2116 (style): Useless echo? Instead of 'cmd $(echo foo)', just use 'cmd foo'.\u001b[0m\n",
      "\u001b[32m             ^----^ SC2086 (info): Double quote to prevent globbing and word splitting.\u001b[0m\n",
      "\n",
      "\u001b[1mDid you mean: \u001b[0m\n",
      "info=\"$(echo \"$input\")\"\n",
      "\n",
      "\n",
      "\u001b[1mIn pigs-show.sh line 7:\u001b[0m\n",
      "\u001b[0mfolder_serial=$(echo $info | cut -d \":\" -f1)\u001b[0m\n",
      "\u001b[32m                     ^---^ SC2086 (info): Double quote to prevent globbing and word splitting.\u001b[0m\n",
      "\n",
      "\u001b[1mDid you mean: \u001b[0m\n",
      "folder_serial=$(echo \"$info\" | cut -d \":\" -f1)\n",
      "\n",
      "\n",
      "\u001b[1mIn pigs-show.sh line 8:\u001b[0m\n",
      "\u001b[0mfolder_name=$(ls ./.pig/objects/ | grep -E \"$folder_serial\")\u001b[0m\n",
      "\u001b[33m              ^-- SC2010 (warning): Don't use ls | grep. Use a glob or a for loop with a condition to allow non-alphanumeric filenames.\u001b[0m\n",
      "\n",
      "\n",
      "\u001b[1mIn pigs-show.sh line 10:\u001b[0m\n",
      "\u001b[0mfile_name=$(echo $info | cut -d \":\" -f2)\u001b[0m\n",
      "\u001b[32m                 ^---^ SC2086 (info): Double quote to prevent globbing and word splitting.\u001b[0m\n",
      "\n",
      "\u001b[1mDid you mean: \u001b[0m\n",
      "file_name=$(echo \"$info\" | cut -d \":\" -f2)\n",
      "\n",
      "\n",
      "\u001b[1mIn pigs-show.sh line 12:\u001b[0m\n",
      "\u001b[0mindex_path=\".pig/index\"\u001b[0m\n",
      "\u001b[33m^--------^ SC2034 (warning): index_path appears unused. Verify use (or export if used externally).\u001b[0m\n",
      "\n",
      "\n",
      "\u001b[1mIn pigs-show.sh line 13:\u001b[0m\n",
      "\u001b[0mobject_path=\".pig/objects\"\u001b[0m\n",
      "\u001b[33m^---------^ SC2034 (warning): object_path appears unused. Verify use (or export if used externally).\u001b[0m\n",
      "\n",
      "\n",
      "\u001b[1mIn pigs-show.sh line 15:\u001b[0m\n",
      "\u001b[0mfile_path=\".pig/objects/$folder_name/$file_name\"\u001b[0m\n",
      "\u001b[33m^-------^ SC2034 (warning): file_path appears unused. Verify use (or export if used externally).\u001b[0m\n",
      "\n",
      "\n",
      "\u001b[1mIn pigs-show.sh line 18:\u001b[0m\n",
      "\u001b[0mif [ -z  $folder_serial ]; then # This checks if the variable $folder_serial is empty or not set.\u001b[0m\n",
      "\u001b[32m         ^------------^ SC2086 (info): Double quote to prevent globbing and word splitting.\u001b[0m\n",
      "\n",
      "\u001b[1mDid you mean: \u001b[0m\n",
      "if [ -z  \"$folder_serial\" ]; then # This checks if the variable $folder_serial is empty or not set.\n",
      "\n",
      "\n",
      "\u001b[1mIn pigs-show.sh line 29:\u001b[0m\n",
      "\u001b[0melif [ ! -z $folder_serial ]; then\u001b[0m\n",
      "\u001b[32m       ^-- SC2236 (style): Use -n instead of ! -z.\u001b[0m\n",
      "\u001b[32m            ^------------^ SC2086 (info): Double quote to prevent globbing and word splitting.\u001b[0m\n",
      "\n",
      "\u001b[1mDid you mean: \u001b[0m\n",
      "elif [ ! -z \"$folder_serial\" ]; then\n",
      "\n",
      "For more information:\n",
      "  https://www.shellcheck.net/wiki/SC2010 -- Don't use ls | grep. Use a glob o...\n",
      "  https://www.shellcheck.net/wiki/SC2034 -- file_path appears unused. Verify ...\n",
      "  https://www.shellcheck.net/wiki/SC2086 -- Double quote to prevent globbing ...\n"
     ]
    }
   ],
   "source": [
    "!shellcheck pigs-show.sh"
   ]
  },
  {
   "cell_type": "code",
   "execution_count": 152,
   "metadata": {},
   "outputs": [
    {
     "name": "stdout",
     "output_type": "stream",
     "text": [
      "a\n"
     ]
    }
   ],
   "source": [
    "!./testing.sh a b c"
   ]
  },
  {
   "cell_type": "markdown",
   "metadata": {},
   "source": []
  },
  {
   "cell_type": "code",
   "execution_count": 180,
   "metadata": {},
   "outputs": [
    {
     "name": "stdout",
     "output_type": "stream",
     "text": [
      "Committed as commit 5\n"
     ]
    }
   ],
   "source": [
    "!./pigs-commit.sh -m \"third commit\""
   ]
  },
  {
   "cell_type": "markdown",
   "metadata": {},
   "source": []
  },
  {
   "cell_type": "code",
   "execution_count": 62,
   "metadata": {},
   "outputs": [
    {
     "name": "stdout",
     "output_type": "stream",
     "text": [
      "\u001b[34m2 third commit\u001b[m\u001b[m\n",
      "\u001b[34m1 second commit\u001b[m\u001b[m\n",
      "\u001b[34m0 first commit\u001b[m\u001b[m\n"
     ]
    }
   ],
   "source": [
    "!./pigs-log.sh"
   ]
  },
  {
   "cell_type": "code",
   "execution_count": 124,
   "metadata": {},
   "outputs": [
    {
     "name": "stdout",
     "output_type": "stream",
     "text": [
      "pigs-show.sh: line 32: .pig/objects/\u001b[34m0 first commit\u001b[m\u001b[m/a: No such file or directory\n"
     ]
    }
   ],
   "source": [
    "!bash pigs-show.sh 0:a\n",
    "\n"
   ]
  },
  {
   "cell_type": "code",
   "execution_count": 137,
   "metadata": {},
   "outputs": [
    {
     "name": "stdout",
     "output_type": "stream",
     "text": [
      "4\n"
     ]
    }
   ],
   "source": [
    "!./testing.sh d c a b"
   ]
  },
  {
   "cell_type": "code",
   "execution_count": null,
   "metadata": {},
   "outputs": [],
   "source": [
    ".pig/objects/1 second commit/a"
   ]
  },
  {
   "cell_type": "code",
   "execution_count": 55,
   "metadata": {},
   "outputs": [
    {
     "name": "stdout",
     "output_type": "stream",
     "text": [
      "\u001b[34m0 first commit\u001b[m\u001b[m\n"
     ]
    }
   ],
   "source": [
    "!ls ./.pig/objects/ | grep -E \"0\""
   ]
  },
  {
   "cell_type": "code",
   "execution_count": 139,
   "metadata": {},
   "outputs": [
    {
     "name": "stdout",
     "output_type": "stream",
     "text": [
      "zsh:1: no such file or directory: ./tesing.sh\n"
     ]
    }
   ],
   "source": [
    "!./tesing.sh a b c"
   ]
  },
  {
   "cell_type": "code",
   "execution_count": 157,
   "metadata": {},
   "outputs": [],
   "source": [
    "!chmod u+x testing_3.sh"
   ]
  },
  {
   "cell_type": "code",
   "execution_count": 192,
   "metadata": {},
   "outputs": [
    {
     "name": "stdout",
     "output_type": "stream",
     "text": [
      "Committed as commit 9\n"
     ]
    }
   ],
   "source": [
    "!./testing_3.sh -a -m \"sixth commit\""
   ]
  },
  {
   "cell_type": "code",
   "execution_count": 190,
   "metadata": {},
   "outputs": [
    {
     "name": "stdout",
     "output_type": "stream",
     "text": [
      "add -a\n"
     ]
    }
   ],
   "source": [
    "!./pigs-commit.sh -a -m \"seventh commit\""
   ]
  },
  {
   "cell_type": "code",
   "execution_count": 185,
   "metadata": {},
   "outputs": [
    {
     "name": "stdout",
     "output_type": "stream",
     "text": [
      "fouth commit\n"
     ]
    }
   ],
   "source": [
    "!./testing_2.sh -m \"fouth commit\""
   ]
  },
  {
   "cell_type": "code",
   "execution_count": 193,
   "metadata": {},
   "outputs": [],
   "source": [
    "!echo 1 > c"
   ]
  },
  {
   "cell_type": "code",
   "execution_count": 233,
   "metadata": {},
   "outputs": [
    {
     "name": "stdout",
     "output_type": "stream",
     "text": [
      "\u001b[34m14 adding a\u001b[m\u001b[m\n"
     ]
    }
   ],
   "source": [
    "!./testing_2.sh "
   ]
  },
  {
   "cell_type": "code",
   "execution_count": 234,
   "metadata": {},
   "outputs": [],
   "source": [
    "!chmod u+x pigs-rm.sh"
   ]
  },
  {
   "cell_type": "code",
   "execution_count": 235,
   "metadata": {},
   "outputs": [
    {
     "name": "stdout",
     "output_type": "stream",
     "text": [
      "./pigs-show.sh: error: '' not found in index\n"
     ]
    }
   ],
   "source": [
    "!./pigs-show.sh"
   ]
  },
  {
   "cell_type": "code",
   "execution_count": 237,
   "metadata": {},
   "outputs": [],
   "source": [
    "! echo line 1 > a"
   ]
  },
  {
   "cell_type": "code",
   "execution_count": null,
   "metadata": {},
   "outputs": [],
   "source": []
  },
  {
   "cell_type": "code",
   "execution_count": 241,
   "metadata": {},
   "outputs": [],
   "source": [
    "! echo line 2 > a"
   ]
  },
  {
   "cell_type": "code",
   "execution_count": null,
   "metadata": {},
   "outputs": [],
   "source": []
  },
  {
   "cell_type": "code",
   "execution_count": 369,
   "metadata": {},
   "outputs": [
    {
     "name": "stdout",
     "output_type": "stream",
     "text": [
      "--catched\n",
      "\u001b[34m3 third commit\u001b[m\u001b[m\n",
      "\n"
     ]
    }
   ],
   "source": [
    "!./pigs-rm.sh --catched a"
   ]
  },
  {
   "cell_type": "code",
   "execution_count": 370,
   "metadata": {},
   "outputs": [
    {
     "name": "stdout",
     "output_type": "stream",
     "text": [
      "0\n"
     ]
    }
   ],
   "source": [
    "!./testing_2.sh"
   ]
  },
  {
   "cell_type": "code",
   "execution_count": null,
   "metadata": {},
   "outputs": [],
   "source": []
  },
  {
   "cell_type": "code",
   "execution_count": null,
   "metadata": {},
   "outputs": [],
   "source": []
  },
  {
   "cell_type": "code",
   "execution_count": 415,
   "metadata": {},
   "outputs": [],
   "source": [
    "!./pigs-rm.sh --catched a c"
   ]
  },
  {
   "cell_type": "code",
   "execution_count": 416,
   "metadata": {},
   "outputs": [
    {
     "name": "stdout",
     "output_type": "stream",
     "text": [
      "diff: .pig/objects/\\033[34m2 second commit\\033[m\\033[m: No such file or directory\n",
      "Committed as commit 3\n"
     ]
    }
   ],
   "source": [
    "!./pigs-commit.sh -m \"second commit\""
   ]
  },
  {
   "cell_type": "code",
   "execution_count": 450,
   "metadata": {},
   "outputs": [],
   "source": [
    "!./pigs-rm.sh a b"
   ]
  },
  {
   "cell_type": "code",
   "execution_count": 444,
   "metadata": {},
   "outputs": [
    {
     "name": "stderr",
     "output_type": "stream",
     "text": [
      "bash: line 1: pigs-add.sh: command not found\n"
     ]
    },
    {
     "ename": "CalledProcessError",
     "evalue": "Command 'b'pigs-add.sh a b\\n'' returned non-zero exit status 127.",
     "output_type": "error",
     "traceback": [
      "\u001b[0;31m---------------------------------------------------------------------------\u001b[0m",
      "\u001b[0;31mCalledProcessError\u001b[0m                        Traceback (most recent call last)",
      "Cell \u001b[0;32mIn[444], line 1\u001b[0m\n\u001b[0;32m----> 1\u001b[0m get_ipython()\u001b[39m.\u001b[39;49mrun_cell_magic(\u001b[39m'\u001b[39;49m\u001b[39mbash\u001b[39;49m\u001b[39m'\u001b[39;49m, \u001b[39m'\u001b[39;49m\u001b[39m'\u001b[39;49m, \u001b[39m'\u001b[39;49m\u001b[39mpigs-add.sh a b\u001b[39;49m\u001b[39m\\n\u001b[39;49;00m\u001b[39m'\u001b[39;49m)\n",
      "File \u001b[0;32m~/Library/Python/3.11/lib/python/site-packages/IPython/core/interactiveshell.py:2478\u001b[0m, in \u001b[0;36mInteractiveShell.run_cell_magic\u001b[0;34m(self, magic_name, line, cell)\u001b[0m\n\u001b[1;32m   2476\u001b[0m \u001b[39mwith\u001b[39;00m \u001b[39mself\u001b[39m\u001b[39m.\u001b[39mbuiltin_trap:\n\u001b[1;32m   2477\u001b[0m     args \u001b[39m=\u001b[39m (magic_arg_s, cell)\n\u001b[0;32m-> 2478\u001b[0m     result \u001b[39m=\u001b[39m fn(\u001b[39m*\u001b[39;49margs, \u001b[39m*\u001b[39;49m\u001b[39m*\u001b[39;49mkwargs)\n\u001b[1;32m   2480\u001b[0m \u001b[39m# The code below prevents the output from being displayed\u001b[39;00m\n\u001b[1;32m   2481\u001b[0m \u001b[39m# when using magics with decodator @output_can_be_silenced\u001b[39;00m\n\u001b[1;32m   2482\u001b[0m \u001b[39m# when the last Python token in the expression is a ';'.\u001b[39;00m\n\u001b[1;32m   2483\u001b[0m \u001b[39mif\u001b[39;00m \u001b[39mgetattr\u001b[39m(fn, magic\u001b[39m.\u001b[39mMAGIC_OUTPUT_CAN_BE_SILENCED, \u001b[39mFalse\u001b[39;00m):\n",
      "File \u001b[0;32m~/Library/Python/3.11/lib/python/site-packages/IPython/core/magics/script.py:154\u001b[0m, in \u001b[0;36mScriptMagics._make_script_magic.<locals>.named_script_magic\u001b[0;34m(line, cell)\u001b[0m\n\u001b[1;32m    152\u001b[0m \u001b[39melse\u001b[39;00m:\n\u001b[1;32m    153\u001b[0m     line \u001b[39m=\u001b[39m script\n\u001b[0;32m--> 154\u001b[0m \u001b[39mreturn\u001b[39;00m \u001b[39mself\u001b[39;49m\u001b[39m.\u001b[39;49mshebang(line, cell)\n",
      "File \u001b[0;32m~/Library/Python/3.11/lib/python/site-packages/IPython/core/magics/script.py:314\u001b[0m, in \u001b[0;36mScriptMagics.shebang\u001b[0;34m(self, line, cell)\u001b[0m\n\u001b[1;32m    309\u001b[0m \u001b[39mif\u001b[39;00m args\u001b[39m.\u001b[39mraise_error \u001b[39mand\u001b[39;00m p\u001b[39m.\u001b[39mreturncode \u001b[39m!=\u001b[39m \u001b[39m0\u001b[39m:\n\u001b[1;32m    310\u001b[0m     \u001b[39m# If we get here and p.returncode is still None, we must have\u001b[39;00m\n\u001b[1;32m    311\u001b[0m     \u001b[39m# killed it but not yet seen its return code. We don't wait for it,\u001b[39;00m\n\u001b[1;32m    312\u001b[0m     \u001b[39m# in case it's stuck in uninterruptible sleep. -9 = SIGKILL\u001b[39;00m\n\u001b[1;32m    313\u001b[0m     rc \u001b[39m=\u001b[39m p\u001b[39m.\u001b[39mreturncode \u001b[39mor\u001b[39;00m \u001b[39m-\u001b[39m\u001b[39m9\u001b[39m\n\u001b[0;32m--> 314\u001b[0m     \u001b[39mraise\u001b[39;00m CalledProcessError(rc, cell)\n",
      "\u001b[0;31mCalledProcessError\u001b[0m: Command 'b'pigs-add.sh a b\\n'' returned non-zero exit status 127."
     ]
    }
   ],
   "source": [
    "%%bash\n",
    "pigs-add.sh a b"
   ]
  },
  {
   "cell_type": "code",
   "execution_count": 441,
   "metadata": {},
   "outputs": [
    {
     "name": "stderr",
     "output_type": "stream",
     "text": [
      "UsageError: Cell magic `%%dash` not found.\n"
     ]
    }
   ],
   "source": [
    "%%dash\n",
    "echo 1 >a\n",
    "echo 2 >b\n",
    "pigs-add.sh a b\n",
    "pigs-commit.sh -m \"first commit\"\n",
    "echo 3 >c\n",
    "echo 4 >d\n",
    "pigs-add.sh c d\n",
    "pigs-rm.sh --cached  a c\n",
    "pigs-commit.sh -m \"second commit\"\n",
    "pigs-show.sh 0:a\n",
    "pigs-show.sh 1:a\n",
    "pigs-show.sh :a\n"
   ]
  },
  {
   "cell_type": "code",
   "execution_count": 445,
   "metadata": {},
   "outputs": [],
   "source": [
    "!chmod u+x running_test.sh"
   ]
  },
  {
   "cell_type": "code",
   "execution_count": 561,
   "metadata": {},
   "outputs": [
    {
     "name": "stdout",
     "output_type": "stream",
     "text": [
      "Committed as commit 0\n",
      "pigs-show: error: not found in index\n",
      "pigs-show: error: not found in index\n",
      "pigs-show: error: not found in index\n",
      "Committed as commit 1\n",
      "./pigs-show.sh: error: 'a' not found in commit 0\n",
      "./pigs-show.sh: error: 'a' not found in commit 1\n",
      "1\n"
     ]
    }
   ],
   "source": [
    "!./running_test_15.sh "
   ]
  },
  {
   "cell_type": "code",
   "execution_count": 454,
   "metadata": {},
   "outputs": [
    {
     "name": "stdout",
     "output_type": "stream",
     "text": [
      "yes\n"
     ]
    }
   ],
   "source": [
    "#!/bin/dash\n",
    "\n",
    "echo 1 >a\n",
    "echo 2 >b\n",
    "./pigs-add.sh a b\n",
    "./pigs-commit.sh -m \"first commit\"\n",
    "echo 3 >c\n",
    "echo 4 >d\n",
    "./pigs-add.sh c d\n",
    "./pigs-rm.sh --cached  a c\n",
    "./pigs-commit.sh -m \"second commit\"\n",
    "./pigs-show.sh 0:a\n",
    "./pigs-show.sh 1:a\n",
    "./pigs-show.sh :a"
   ]
  },
  {
   "cell_type": "code",
   "execution_count": 457,
   "metadata": {},
   "outputs": [],
   "source": [
    "!./testing_3.sh --cached a b"
   ]
  },
  {
   "cell_type": "code",
   "execution_count": 461,
   "metadata": {},
   "outputs": [
    {
     "name": "stdout",
     "output_type": "stream",
     "text": [
      "yes\n"
     ]
    }
   ],
   "source": [
    "!./pigs-rm.sh --cached a b"
   ]
  },
  {
   "cell_type": "code",
   "execution_count": 495,
   "metadata": {},
   "outputs": [
    {
     "name": "stdout",
     "output_type": "stream",
     "text": [
      "Committed as commit 0\n",
      "diff: .pig/objects/\\033[34m0 first commit\\033[m\\033[m: No such file or directory\n",
      "Committed as commit 1\n",
      "diff: .pig/objects/\\033[34m1 second commit\\033[m\\033[m: No such file or directory\n",
      "Committed as commit 2\n",
      "./pigs-rm.sh: error: --cached is not in the pigs repository\n",
      "diff: .pig/objects/\\033[34m2 second commit\\033[m\\033[m: No such file or directory\n",
      "Committed as commit 3\n",
      "./pigs-rm.sh: error: b is not in the pigs repository\n",
      "diff: .pig/objects/\\033[34m0 first commit\\033[m\\033[m\n",
      "\\033[34m1 second commit\\033[m\\033[m\n",
      "\\033[34m2 second commit\\033[m\\033[m\n",
      "\\033[34m3 second commit\\033[m\\033[m: No such file or directory\n",
      "Committed as commit 4\n",
      "diff: .pig/objects/\\033[34m0 first commit\\033[m\\033[m\n",
      "\\033[34m1 second commit\\033[m\\033[m\n",
      "\\033[34m2 second commit\\033[m\\033[m\n",
      "\\033[34m3 second commit\\033[m\\033[m\n",
      "\\033[34m4 third commit\\033[m\\033[m: No such file or directory\n",
      "Committed as commit 5\n"
     ]
    }
   ],
   "source": [
    "!./running_test.sh"
   ]
  },
  {
   "cell_type": "code",
   "execution_count": 471,
   "metadata": {},
   "outputs": [
    {
     "name": "stdout",
     "output_type": "stream",
     "text": [
      "rm: .pig/index/f: No such file or directory\n"
     ]
    }
   ],
   "source": [
    "!./pigs-add.sh f"
   ]
  },
  {
   "cell_type": "code",
   "execution_count": 493,
   "metadata": {},
   "outputs": [
    {
     "name": "stdout",
     "output_type": "stream",
     "text": [
      "Committed as commit 2\n"
     ]
    }
   ],
   "source": [
    "!./pigs-commit.sh -m \"third commit\""
   ]
  },
  {
   "cell_type": "code",
   "execution_count": 744,
   "metadata": {},
   "outputs": [
    {
     "name": "stdout",
     "output_type": "stream",
     "text": [
      "\n",
      "\u001b[1mIn pigs-commit.sh line 5:\u001b[0m\n",
      "\u001b[0m    file_name=$@\u001b[0m\n",
      "\u001b[33m              ^-- SC2124 (warning): Assigning an array to a string! Assign as array, or use * instead of @ to concatenate.\u001b[0m\n",
      "\n",
      "\n",
      "\u001b[1mIn pigs-commit.sh line 15:\u001b[0m\n",
      "\u001b[0m                cp $backup_file .pig/objects/\"$max $file_name\" \u001b[0m\n",
      "\u001b[32m                   ^----------^ SC2086 (info): Double quote to prevent globbing and word splitting.\u001b[0m\n",
      "\n",
      "\u001b[1mDid you mean: \u001b[0m\n",
      "                cp \"$backup_file\" .pig/objects/\"$max $file_name\" \n",
      "\n",
      "\n",
      "\u001b[1mIn pigs-commit.sh line 20:\u001b[0m\n",
      "\u001b[0m            for backup_fold in $search_path/*; do\u001b[0m\n",
      "\u001b[32m                               ^----------^ SC2231 (info): Quote expansions in this for loop glob to prevent wordsplitting, e.g. \"$dir\"/*.txt .\u001b[0m\n",
      "\n",
      "\n",
      "\u001b[1mIn pigs-commit.sh line 21:\u001b[0m\n",
      "\u001b[0m                number=$(echo $backup_fold | cut -d \" \" -f1 | cut -d \"/\" -f3) \u001b[0m\n",
      "\u001b[32m                              ^----------^ SC2086 (info): Double quote to prevent globbing and word splitting.\u001b[0m\n",
      "\n",
      "\u001b[1mDid you mean: \u001b[0m\n",
      "                number=$(echo \"$backup_fold\" | cut -d \" \" -f1 | cut -d \"/\" -f3) \n",
      "\n",
      "\n",
      "\u001b[1mIn pigs-commit.sh line 27:\u001b[0m\n",
      "\u001b[0m            object_folder_name=$(ls ./.pig/objects/ | grep -E \"$max\")\u001b[0m\n",
      "\u001b[33m                                 ^-- SC2010 (warning): Don't use ls | grep. Use a glob or a for loop with a condition to allow non-alphanumeric filenames.\u001b[0m\n",
      "\n",
      "\n",
      "\u001b[1mIn pigs-commit.sh line 30:\u001b[0m\n",
      "\u001b[0m            for file1 in \".pig/index/\"; do\u001b[0m\n",
      "\u001b[33m                         ^-----------^ SC2043 (warning): This loop will only ever run once. Bad quoting or missing glob/expansion?\u001b[0m\n",
      "\n",
      "\n",
      "\u001b[1mIn pigs-commit.sh line 31:\u001b[0m\n",
      "\u001b[0m                for file2 in \".pig/objects/$object_folder_name\"; do\u001b[0m\n",
      "\u001b[31m                             ^-- SC2066 (error): Since you double quoted this, it will not word split, and the loop will only run once.\u001b[0m\n",
      "\n",
      "\n",
      "\u001b[1mIn pigs-commit.sh line 35:\u001b[0m\n",
      "\u001b[0m                        serial_number=$(($max+1))\u001b[0m\n",
      "\u001b[32m                                         ^--^ SC2004 (style): $/${} is unnecessary on arithmetic variables.\u001b[0m\n",
      "\n",
      "\n",
      "\u001b[1mIn pigs-commit.sh line 38:\u001b[0m\n",
      "\u001b[0m                            cp $backup_file .pig/objects/\"$serial_number $file_name\"/ 2>/dev/null\u001b[0m\n",
      "\u001b[32m                               ^----------^ SC2086 (info): Double quote to prevent globbing and word splitting.\u001b[0m\n",
      "\n",
      "\u001b[1mDid you mean: \u001b[0m\n",
      "                            cp \"$backup_file\" .pig/objects/\"$serial_number $file_name\"/ 2>/dev/null\n",
      "\n",
      "\n",
      "\u001b[1mIn pigs-commit.sh line 55:\u001b[0m\n",
      "\u001b[0m          cp $workingfile ./.pig/index/\u001b[0m\n",
      "\u001b[32m             ^----------^ SC2086 (info): Double quote to prevent globbing and word splitting.\u001b[0m\n",
      "\n",
      "\u001b[1mDid you mean: \u001b[0m\n",
      "          cp \"$workingfile\" ./.pig/index/\n",
      "\n",
      "\n",
      "\u001b[1mIn pigs-commit.sh line 68:\u001b[0m\n",
      "\u001b[0m    commit $2\u001b[0m\n",
      "\u001b[32m           ^-- SC2086 (info): Double quote to prevent globbing and word splitting.\u001b[0m\n",
      "\n",
      "\u001b[1mDid you mean: \u001b[0m\n",
      "    commit \"$2\"\n",
      "\n",
      "\n",
      "\u001b[1mIn pigs-commit.sh line 72:\u001b[0m\n",
      "\u001b[0m    commit $3\u001b[0m\n",
      "\u001b[32m           ^-- SC2086 (info): Double quote to prevent globbing and word splitting.\u001b[0m\n",
      "\n",
      "\u001b[1mDid you mean: \u001b[0m\n",
      "    commit \"$3\"\n",
      "\n",
      "For more information:\n",
      "  https://www.shellcheck.net/wiki/SC2066 -- Since you double quoted this, it ...\n",
      "  https://www.shellcheck.net/wiki/SC2010 -- Don't use ls | grep. Use a glob o...\n",
      "  https://www.shellcheck.net/wiki/SC2043 -- This loop will only ever run once...\n"
     ]
    }
   ],
   "source": [
    "!shellcheck pigs-commit.sh"
   ]
  },
  {
   "cell_type": "code",
   "execution_count": null,
   "metadata": {},
   "outputs": [],
   "source": [
    "$ pigs-rm b\n",
    "pigs-rm: error: 'b' is not in the pigs repository"
   ]
  },
  {
   "cell_type": "code",
   "execution_count": 747,
   "metadata": {},
   "outputs": [
    {
     "name": "stdout",
     "output_type": "stream",
     "text": [
      "./pigs-rm.sh: error: 'b' is not in the pigs repository\n"
     ]
    }
   ],
   "source": [
    "!./pigs-rm.sh b"
   ]
  },
  {
   "cell_type": "code",
   "execution_count": 587,
   "metadata": {},
   "outputs": [
    {
     "name": "stdout",
     "output_type": "stream",
     "text": [
      "\n",
      "\u001b[1mIn pigs-rm.sh line 5:\u001b[0m\n",
      "\u001b[0mnum_arg=$#\u001b[0m\n",
      "\u001b[33m^-----^ SC2034 (warning): num_arg appears unused. Verify use (or export if used externally).\u001b[0m\n",
      "\n",
      "\n",
      "\u001b[1mIn pigs-rm.sh line 8:\u001b[0m\n",
      "\u001b[0mworking_dir=\".\"\u001b[0m\n",
      "\u001b[33m^---------^ SC2034 (warning): working_dir appears unused. Verify use (or export if used externally).\u001b[0m\n",
      "\n",
      "\n",
      "\u001b[1mIn pigs-rm.sh line 16:\u001b[0m\n",
      "\u001b[0m        number=$(echo $folder | cut -d \" \" -f1 | cut -d \"/\" -f3) \u001b[0m\n",
      "\u001b[32m                      ^-----^ SC2086 (info): Double quote to prevent globbing and word splitting.\u001b[0m\n",
      "\n",
      "\u001b[1mDid you mean: \u001b[0m\n",
      "        number=$(echo \"$folder\" | cut -d \" \" -f1 | cut -d \"/\" -f3) \n",
      "\n",
      "\n",
      "\u001b[1mIn pigs-rm.sh line 23:\u001b[0m\n",
      "\u001b[0m    object_folder_name=$(ls ./.pig/objects/ | grep -e \"$max\\s\")\u001b[0m\n",
      "\u001b[33m                         ^-- SC2010 (warning): Don't use ls | grep. Use a glob or a for loop with a condition to allow non-alphanumeric filenames.\u001b[0m\n",
      "\n",
      "\n",
      "\u001b[1mIn pigs-rm.sh line 24:\u001b[0m\n",
      "\u001b[0m    echo $object_folder_name\u001b[0m\n",
      "\u001b[32m         ^-----------------^ SC2086 (info): Double quote to prevent globbing and word splitting.\u001b[0m\n",
      "\n",
      "\u001b[1mDid you mean: \u001b[0m\n",
      "    echo \"$object_folder_name\"\n",
      "\n",
      "\n",
      "\u001b[1mIn pigs-rm.sh line 33:\u001b[0m\n",
      "\u001b[0m        elif [ ! -f $stage_dir/$arg_cached ]; then\u001b[0m\n",
      "\u001b[32m                               ^---------^ SC2086 (info): Double quote to prevent globbing and word splitting.\u001b[0m\n",
      "\n",
      "\u001b[1mDid you mean: \u001b[0m\n",
      "        elif [ ! -f $stage_dir/\"$arg_cached\" ]; then\n",
      "\n",
      "\n",
      "\u001b[1mIn pigs-rm.sh line 34:\u001b[0m\n",
      "\u001b[0m            echo pigs-show: error: $arg_cached not found in index\u001b[0m\n",
      "\u001b[32m                                   ^---------^ SC2086 (info): Double quote to prevent globbing and word splitting.\u001b[0m\n",
      "\n",
      "\u001b[1mDid you mean: \u001b[0m\n",
      "            echo pigs-show: error: \"$arg_cached\" not found in index\n",
      "\n",
      "\n",
      "\u001b[1mIn pigs-rm.sh line 35:\u001b[0m\n",
      "\u001b[0m        elif [ -f $stage_dir/$arg_cached ]; then\u001b[0m\n",
      "\u001b[32m                             ^---------^ SC2086 (info): Double quote to prevent globbing and word splitting.\u001b[0m\n",
      "\n",
      "\u001b[1mDid you mean: \u001b[0m\n",
      "        elif [ -f $stage_dir/\"$arg_cached\" ]; then\n",
      "\n",
      "\n",
      "\u001b[1mIn pigs-rm.sh line 36:\u001b[0m\n",
      "\u001b[0m            rm $stage_dir/$arg_cached\u001b[0m\n",
      "\u001b[32m                          ^---------^ SC2086 (info): Double quote to prevent globbing and word splitting.\u001b[0m\n",
      "\n",
      "\u001b[1mDid you mean: \u001b[0m\n",
      "            rm $stage_dir/\"$arg_cached\"\n",
      "\n",
      "\n",
      "\u001b[1mIn pigs-rm.sh line 42:\u001b[0m\n",
      "\u001b[0m        if [ ! -f $stage_dir/$arg_rm ]; then\u001b[0m\n",
      "\u001b[32m                             ^-----^ SC2086 (info): Double quote to prevent globbing and word splitting.\u001b[0m\n",
      "\n",
      "\u001b[1mDid you mean: \u001b[0m\n",
      "        if [ ! -f $stage_dir/\"$arg_rm\" ]; then\n",
      "\n",
      "\n",
      "\u001b[1mIn pigs-rm.sh line 45:\u001b[0m\n",
      "\u001b[0m        elif [ -f $stage_dir/$arg_rm ]; then\u001b[0m\n",
      "\u001b[32m                             ^-----^ SC2086 (info): Double quote to prevent globbing and word splitting.\u001b[0m\n",
      "\n",
      "\u001b[1mDid you mean: \u001b[0m\n",
      "        elif [ -f $stage_dir/\"$arg_rm\" ]; then\n",
      "\n",
      "\n",
      "\u001b[1mIn pigs-rm.sh line 46:\u001b[0m\n",
      "\u001b[0m            if [ -f $arg_rm ] && [ -f $comit_dir/$(latest_commit)/$arg_rm ]; then\u001b[0m\n",
      "\u001b[32m                    ^-----^ SC2086 (info): Double quote to prevent globbing and word splitting.\u001b[0m\n",
      "\u001b[33m                                                 ^--------------^ SC2046 (warning): Quote this to prevent word splitting.\u001b[0m\n",
      "\u001b[32m                                                                  ^-----^ SC2086 (info): Double quote to prevent globbing and word splitting.\u001b[0m\n",
      "\n",
      "\u001b[1mDid you mean: \u001b[0m\n",
      "            if [ -f \"$arg_rm\" ] && [ -f $comit_dir/$(latest_commit)/\"$arg_rm\" ]; then\n",
      "\n",
      "For more information:\n",
      "  https://www.shellcheck.net/wiki/SC2010 -- Don't use ls | grep. Use a glob o...\n",
      "  https://www.shellcheck.net/wiki/SC2034 -- num_arg appears unused. Verify us...\n",
      "  https://www.shellcheck.net/wiki/SC2046 -- Quote this to prevent word splitt...\n"
     ]
    }
   ],
   "source": [
    "!shellcheck pigs-rm.sh"
   ]
  },
  {
   "cell_type": "code",
   "execution_count": 584,
   "metadata": {},
   "outputs": [
    {
     "name": "stdout",
     "output_type": "stream",
     "text": [
      "rm: ./.pig/index/*: No such file or directory\n"
     ]
    }
   ],
   "source": [
    "!./clean_up.sh"
   ]
  },
  {
   "cell_type": "code",
   "execution_count": 515,
   "metadata": {},
   "outputs": [
    {
     "name": "stdout",
     "output_type": "stream",
     "text": [
      "grep: unrecognized option `--cached'\n",
      "usage: grep [-abcdDEFGHhIiJLlMmnOopqRSsUVvwXxZz] [-A num] [-B num] [-C[num]]\n",
      "\t[-e pattern] [-f file] [--binary-files=value] [--color=when]\n",
      "\t[--context[=num]] [--directories=action] [--label] [--line-buffered]\n",
      "\t[--null] [pattern] [file ...]\n",
      "grep: unrecognized option `--cached'\n",
      "usage: grep [-abcdDEFGHhIiJLlMmnOopqRSsUVvwXxZz] [-A num] [-B num] [-C[num]]\n",
      "\t[-e pattern] [-f file] [--binary-files=value] [--color=when]\n",
      "\t[--context[=num]] [--directories=action] [--label] [--line-buffered]\n",
      "\t[--null] [pattern] [file ...]\n",
      "grep: unrecognized option `--cached'\n",
      "usage: grep [-abcdDEFGHhIiJLlMmnOopqRSsUVvwXxZz] [-A num] [-B num] [-C[num]]\n",
      "\t[-e pattern] [-f file] [--binary-files=value] [--color=when]\n",
      "\t[--context[=num]] [--directories=action] [--label] [--line-buffered]\n",
      "\t[--null] [pattern] [file ...]\n"
     ]
    }
   ],
   "source": [
    "!./pigs-rm.sh --cached a b"
   ]
  },
  {
   "cell_type": "code",
   "execution_count": 737,
   "metadata": {},
   "outputs": [
    {
     "name": "stdout",
     "output_type": "stream",
     "text": [
      "rm: b: No such file or directory\n"
     ]
    }
   ],
   "source": [
    "rm b"
   ]
  },
  {
   "cell_type": "code",
   "execution_count": 753,
   "metadata": {},
   "outputs": [
    {
     "name": "stdout",
     "output_type": "stream",
     "text": [
      "yes\n"
     ]
    }
   ],
   "source": [
    "!./testing_3.sh"
   ]
  },
  {
   "cell_type": "code",
   "execution_count": 668,
   "metadata": {},
   "outputs": [],
   "source": [
    "!chmod u+x testing_3.sh"
   ]
  },
  {
   "cell_type": "code",
   "execution_count": 754,
   "metadata": {},
   "outputs": [
    {
     "name": "stdout",
     "output_type": "stream",
     "text": [
      "rm: ./.pig/index/*: No such file or directory\n"
     ]
    }
   ],
   "source": [
    "!./clean_up.sh"
   ]
  },
  {
   "cell_type": "code",
   "execution_count": 755,
   "metadata": {},
   "outputs": [
    {
     "name": "stdout",
     "output_type": "stream",
     "text": [
      "Committed as commit 0\n",
      "Committed as commit 1\n",
      "Committed as commit 2\n",
      "Committed as commit 3\n",
      "./pigs-rm.sh: error: 'b' is not in the pigs repository\n"
     ]
    }
   ],
   "source": [
    "!./running_test_17.sh"
   ]
  },
  {
   "cell_type": "code",
   "execution_count": null,
   "metadata": {},
   "outputs": [],
   "source": []
  }
 ],
 "metadata": {
  "kernelspec": {
   "display_name": "Python 3",
   "language": "python",
   "name": "python3"
  },
  "language_info": {
   "codemirror_mode": {
    "name": "ipython",
    "version": 3
   },
   "file_extension": ".py",
   "mimetype": "text/x-python",
   "name": "python",
   "nbconvert_exporter": "python",
   "pygments_lexer": "ipython3",
   "version": "3.11.3"
  },
  "orig_nbformat": 4
 },
 "nbformat": 4,
 "nbformat_minor": 2
}
