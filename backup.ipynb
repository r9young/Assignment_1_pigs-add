{
 "cells": [
  {
   "cell_type": "markdown",
   "metadata": {},
   "source": [
    "max=0\n",
    "if ls .pig/objects/.snapshot.* >/dev/null 2>&1; then\n",
    "    for snap_dir in .pig/objects/.snapshot.*; do\n",
    "        number=$(echo $snap_dir | cut -d \".\" -f4 )\n",
    "        if [ \"$number\" -gt \"$max\" ]; then\n",
    "            max=\"$number\"\n",
    "        fi\n",
    "    done\n",
    "\n",
    "elif ! ls .pig/objects/.snapshot.* >/dev/null 2>&1; then\n",
    "    max=-1\n",
    "fi\n",
    "\n",
    "max=$(($max+1))\n",
    "mkdir .pig/objects/.snapshot.\"$max\"\n",
    "\n",
    "for backup_file in .pig/index/*; do\n",
    "    cp $backup_file .pig/objects/.snapshot.$max/\n",
    "done\n",
    "\n",
    "echo Committed as commit \"$max\"\n"
   ]
  }
 ],
 "metadata": {
  "language_info": {
   "name": "python"
  },
  "orig_nbformat": 4
 },
 "nbformat": 4,
 "nbformat_minor": 2
}
