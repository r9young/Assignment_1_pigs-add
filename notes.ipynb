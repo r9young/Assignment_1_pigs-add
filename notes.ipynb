{
 "cells": [
  {
   "cell_type": "markdown",
   "metadata": {},
   "source": [
    "\n",
    "\n",
    "These are two different types of condition checks using test (or [ ]) in shell scripts:\n",
    "\n",
    "if [ ! -f \"$file_path\" ]; then\n",
    "\n",
    "This checks if a file does not exist. The -f option checks for the existence of a regular file (not a directory) with the given path. The ! operator negates the condition, so ! -f \"$file_path\" is true if the file does not exist or is not a regular file.\n",
    "\n",
    "if [ -z $folder_serial ]; then\n",
    "\n",
    "This checks if the variable $folder_serial is empty or not set. The -z option checks for a zero-length (empty) string. If $folder_serial is empty or unset, -z $folder_serial is true.\n",
    "\n",
    "So the difference between them is that the first is checking for the non-existence of a file, while the second is checking if a variable is empty. They are used in different contexts and for different purposes in shell scripting."
   ]
  },
  {
   "attachments": {},
   "cell_type": "markdown",
   "metadata": {},
   "source": [
    "$ pigs-init\n",
    "Initialized empty pigs repository in .pig\n",
    "$ echo 1 > a\n",
    "$ pigs-add a\n",
    "$ pigs-commit -m message1\n",
    "Committed as commit 0\n",
    "$ touch a\n",
    "$ pigs-add a\n",
    "$ pigs-commit -m message2\n",
    "nothing to commit"
   ]
  }
 ],
 "metadata": {
  "language_info": {
   "name": "python"
  },
  "orig_nbformat": 4
 },
 "nbformat": 4,
 "nbformat_minor": 2
}
