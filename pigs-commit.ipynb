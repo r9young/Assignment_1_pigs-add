{
 "cells": [
  {
   "cell_type": "code",
   "execution_count": 1,
   "metadata": {},
   "outputs": [],
   "source": [
    "!touch a b c d e f"
   ]
  },
  {
   "cell_type": "code",
   "execution_count": 38,
   "metadata": {},
   "outputs": [],
   "source": [
    "!chmod u+x pigs-log.sh"
   ]
  },
  {
   "cell_type": "code",
   "execution_count": 8,
   "metadata": {},
   "outputs": [
    {
     "name": "stdout",
     "output_type": "stream",
     "text": [
      "\n",
      "\u001b[1mIn pigs-add.sh line 12:\u001b[0m\n",
      "\u001b[0m        cp $file_add .pig/index\u001b[0m\n",
      "\u001b[32m           ^-------^ SC2086 (info): Double quote to prevent globbing and word splitting.\u001b[0m\n",
      "\n",
      "\u001b[1mDid you mean: \u001b[0m\n",
      "        cp \"$file_add\" .pig/index\n",
      "\n",
      "For more information:\n",
      "  https://www.shellcheck.net/wiki/SC2086 -- Double quote to prevent globbing ...\n"
     ]
    }
   ],
   "source": [
    "!shellcheck pigs-add.sh"
   ]
  },
  {
   "cell_type": "code",
   "execution_count": 36,
   "metadata": {},
   "outputs": [
    {
     "name": "stdout",
     "output_type": "stream",
     "text": [
      "f.txt does not exist in the directory, so it has been added\n",
      "g.txt does not exist in the directory, so it has been added\n"
     ]
    }
   ],
   "source": [
    "!./pigs-add.sh f.txt g.txt"
   ]
  },
  {
   "cell_type": "code",
   "execution_count": 26,
   "metadata": {},
   "outputs": [
    {
     "name": "stdout",
     "output_type": "stream",
     "text": [
      "c.txt is in the directory\n"
     ]
    }
   ],
   "source": [
    "!./pigs-add.sh c.txt"
   ]
  },
  {
   "cell_type": "code",
   "execution_count": 3,
   "metadata": {},
   "outputs": [
    {
     "name": "stdout",
     "output_type": "stream",
     "text": [
      "zsh:1: no matches found: .pig/index/.snapshot.*/*\n"
     ]
    }
   ],
   "source": [
    "!ls .pig/index/.snapshot.*/*"
   ]
  },
  {
   "cell_type": "code",
   "execution_count": 46,
   "metadata": {},
   "outputs": [],
   "source": [
    "!chmod u+x testing.sh"
   ]
  },
  {
   "cell_type": "code",
   "execution_count": 51,
   "metadata": {},
   "outputs": [
    {
     "name": "stdout",
     "output_type": "stream",
     "text": [
      ".pig/index/.snapshot.0\n",
      ".pig/index/.snapshot.1\n"
     ]
    }
   ],
   "source": [
    "!./testing.sh"
   ]
  },
  {
   "cell_type": "code",
   "execution_count": 37,
   "metadata": {},
   "outputs": [
    {
     "name": "stdout",
     "output_type": "stream",
     "text": [
      "Creating snapshot 6\n"
     ]
    }
   ],
   "source": [
    "!./pigs-commit.sh"
   ]
  },
  {
   "cell_type": "code",
   "execution_count": 45,
   "metadata": {},
   "outputs": [
    {
     "name": "stdout",
     "output_type": "stream",
     "text": [
      ".snapshot.0\n",
      ".snapshot.1\n",
      ".snapshot.2\n",
      ".snapshot.3\n",
      ".snapshot.4\n",
      ".snapshot.5\n",
      ".snapshot.6\n"
     ]
    }
   ],
   "source": [
    "!./pigs-log.sh"
   ]
  },
  {
   "cell_type": "code",
   "execution_count": null,
   "metadata": {},
   "outputs": [],
   "source": []
  }
 ],
 "metadata": {
  "kernelspec": {
   "display_name": "Python 3",
   "language": "python",
   "name": "python3"
  },
  "language_info": {
   "codemirror_mode": {
    "name": "ipython",
    "version": 3
   },
   "file_extension": ".py",
   "mimetype": "text/x-python",
   "name": "python",
   "nbconvert_exporter": "python",
   "pygments_lexer": "ipython3",
   "version": "3.11.3"
  },
  "orig_nbformat": 4
 },
 "nbformat": 4,
 "nbformat_minor": 2
}
